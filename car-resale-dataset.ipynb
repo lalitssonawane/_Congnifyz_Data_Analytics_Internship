{
 "cells": [
  {
   "cell_type": "markdown",
   "id": "c6926053",
   "metadata": {
    "papermill": {
     "duration": 0.019483,
     "end_time": "2024-10-15T12:24:59.699689",
     "exception": false,
     "start_time": "2024-10-15T12:24:59.680206",
     "status": "completed"
    },
    "tags": []
   },
   "source": [
    "### car Resale Analysis Regression"
   ]
  },
  {
   "cell_type": "code",
   "execution_count": 1,
   "id": "22329624",
   "metadata": {
    "_cell_guid": "b1076dfc-b9ad-4769-8c92-a6c4dae69d19",
    "_uuid": "8f2839f25d086af736a60e9eeb907d3b93b6e0e5",
    "execution": {
     "iopub.execute_input": "2024-10-15T12:24:59.739767Z",
     "iopub.status.busy": "2024-10-15T12:24:59.739306Z",
     "iopub.status.idle": "2024-10-15T12:25:00.758280Z",
     "shell.execute_reply": "2024-10-15T12:25:00.754381Z"
    },
    "papermill": {
     "duration": 1.043206,
     "end_time": "2024-10-15T12:25:00.762049",
     "exception": false,
     "start_time": "2024-10-15T12:24:59.718843",
     "status": "completed"
    },
    "tags": []
   },
   "outputs": [
    {
     "name": "stdout",
     "output_type": "stream",
     "text": [
      "/kaggle/input/car-resale-prices/car_resale_prices.csv\n"
     ]
    }
   ],
   "source": [
    "# This Python 3 environment comes with many helpful analytics libraries installed\n",
    "# It is defined by the kaggle/python Docker image: https://github.com/kaggle/docker-python\n",
    "# For example, here's several helpful packages to load\n",
    "\n",
    "import numpy as np # linear algebra\n",
    "import pandas as pd # data processing, CSV file I/O (e.g. pd.read_csv)\n",
    "\n",
    "# Input data files are available in the read-only \"../input/\" directory\n",
    "# For example, running this (by clicking run or pressing Shift+Enter) will list all files under the input directory\n",
    "\n",
    "import os\n",
    "for dirname, _, filenames in os.walk('/kaggle/input'):\n",
    "    for filename in filenames:\n",
    "        print(os.path.join(dirname, filename))\n",
    "\n",
    "# You can write up to 20GB to the current directory (/kaggle/working/) that gets preserved as output when you create a version using \"Save & Run All\" \n",
    "# You can also write temporary files to /kaggle/temp/, but they won't be saved outside of the current session"
   ]
  },
  {
   "cell_type": "code",
   "execution_count": 2,
   "id": "51e1bf97",
   "metadata": {
    "execution": {
     "iopub.execute_input": "2024-10-15T12:25:00.812570Z",
     "iopub.status.busy": "2024-10-15T12:25:00.811328Z",
     "iopub.status.idle": "2024-10-15T12:25:02.681644Z",
     "shell.execute_reply": "2024-10-15T12:25:02.680308Z"
    },
    "papermill": {
     "duration": 1.897545,
     "end_time": "2024-10-15T12:25:02.685120",
     "exception": false,
     "start_time": "2024-10-15T12:25:00.787575",
     "status": "completed"
    },
    "tags": []
   },
   "outputs": [],
   "source": [
    "import pandas as pd\n",
    "import seaborn as sns\n",
    "import numpy as np\n",
    "import matplotlib.pyplot as plt"
   ]
  },
  {
   "cell_type": "code",
   "execution_count": 3,
   "id": "9bd0443d",
   "metadata": {
    "execution": {
     "iopub.execute_input": "2024-10-15T12:25:02.726146Z",
     "iopub.status.busy": "2024-10-15T12:25:02.725710Z",
     "iopub.status.idle": "2024-10-15T12:25:02.868806Z",
     "shell.execute_reply": "2024-10-15T12:25:02.867385Z"
    },
    "papermill": {
     "duration": 0.167097,
     "end_time": "2024-10-15T12:25:02.871813",
     "exception": false,
     "start_time": "2024-10-15T12:25:02.704716",
     "status": "completed"
    },
    "tags": []
   },
   "outputs": [],
   "source": [
    "resale_data = pd.read_csv(\"/kaggle/input/car-resale-prices/car_resale_prices.csv\")"
   ]
  },
  {
   "cell_type": "code",
   "execution_count": 4,
   "id": "9f366042",
   "metadata": {
    "execution": {
     "iopub.execute_input": "2024-10-15T12:25:02.913197Z",
     "iopub.status.busy": "2024-10-15T12:25:02.912728Z",
     "iopub.status.idle": "2024-10-15T12:25:02.970552Z",
     "shell.execute_reply": "2024-10-15T12:25:02.969308Z"
    },
    "papermill": {
     "duration": 0.081686,
     "end_time": "2024-10-15T12:25:02.973658",
     "exception": false,
     "start_time": "2024-10-15T12:25:02.891972",
     "status": "completed"
    },
    "tags": []
   },
   "outputs": [
    {
     "name": "stdout",
     "output_type": "stream",
     "text": [
      "<class 'pandas.core.frame.DataFrame'>\n",
      "RangeIndex: 17446 entries, 0 to 17445\n",
      "Data columns (total 15 columns):\n",
      " #   Column             Non-Null Count  Dtype  \n",
      "---  ------             --------------  -----  \n",
      " 0   Unnamed: 0         17446 non-null  int64  \n",
      " 1   full_name          17446 non-null  object \n",
      " 2   resale_price       17446 non-null  object \n",
      " 3   registered_year    17377 non-null  object \n",
      " 4   engine_capacity    17432 non-null  object \n",
      " 5   insurance          17439 non-null  object \n",
      " 6   transmission_type  17446 non-null  object \n",
      " 7   kms_driven         17443 non-null  object \n",
      " 8   owner_type         17401 non-null  object \n",
      " 9   fuel_type          17446 non-null  object \n",
      " 10  max_power          17344 non-null  object \n",
      " 11  seats              17436 non-null  float64\n",
      " 12  mileage            16938 non-null  object \n",
      " 13  body_type          17446 non-null  object \n",
      " 14  city               17446 non-null  object \n",
      "dtypes: float64(1), int64(1), object(13)\n",
      "memory usage: 2.0+ MB\n"
     ]
    }
   ],
   "source": [
    "resale_data.info()"
   ]
  },
  {
   "cell_type": "code",
   "execution_count": 5,
   "id": "3fb6231f",
   "metadata": {
    "execution": {
     "iopub.execute_input": "2024-10-15T12:25:03.015438Z",
     "iopub.status.busy": "2024-10-15T12:25:03.014337Z",
     "iopub.status.idle": "2024-10-15T12:25:03.045769Z",
     "shell.execute_reply": "2024-10-15T12:25:03.044481Z"
    },
    "papermill": {
     "duration": 0.055285,
     "end_time": "2024-10-15T12:25:03.048610",
     "exception": false,
     "start_time": "2024-10-15T12:25:02.993325",
     "status": "completed"
    },
    "tags": []
   },
   "outputs": [
    {
     "data": {
      "text/html": [
       "<div>\n",
       "<style scoped>\n",
       "    .dataframe tbody tr th:only-of-type {\n",
       "        vertical-align: middle;\n",
       "    }\n",
       "\n",
       "    .dataframe tbody tr th {\n",
       "        vertical-align: top;\n",
       "    }\n",
       "\n",
       "    .dataframe thead th {\n",
       "        text-align: right;\n",
       "    }\n",
       "</style>\n",
       "<table border=\"1\" class=\"dataframe\">\n",
       "  <thead>\n",
       "    <tr style=\"text-align: right;\">\n",
       "      <th></th>\n",
       "      <th>Unnamed: 0</th>\n",
       "      <th>seats</th>\n",
       "    </tr>\n",
       "  </thead>\n",
       "  <tbody>\n",
       "    <tr>\n",
       "      <th>count</th>\n",
       "      <td>17446.000000</td>\n",
       "      <td>17436.000000</td>\n",
       "    </tr>\n",
       "    <tr>\n",
       "      <th>mean</th>\n",
       "      <td>8722.500000</td>\n",
       "      <td>5.205494</td>\n",
       "    </tr>\n",
       "    <tr>\n",
       "      <th>std</th>\n",
       "      <td>5036.370734</td>\n",
       "      <td>0.669321</td>\n",
       "    </tr>\n",
       "    <tr>\n",
       "      <th>min</th>\n",
       "      <td>0.000000</td>\n",
       "      <td>2.000000</td>\n",
       "    </tr>\n",
       "    <tr>\n",
       "      <th>25%</th>\n",
       "      <td>4361.250000</td>\n",
       "      <td>5.000000</td>\n",
       "    </tr>\n",
       "    <tr>\n",
       "      <th>50%</th>\n",
       "      <td>8722.500000</td>\n",
       "      <td>5.000000</td>\n",
       "    </tr>\n",
       "    <tr>\n",
       "      <th>75%</th>\n",
       "      <td>13083.750000</td>\n",
       "      <td>5.000000</td>\n",
       "    </tr>\n",
       "    <tr>\n",
       "      <th>max</th>\n",
       "      <td>17445.000000</td>\n",
       "      <td>14.000000</td>\n",
       "    </tr>\n",
       "  </tbody>\n",
       "</table>\n",
       "</div>"
      ],
      "text/plain": [
       "         Unnamed: 0         seats\n",
       "count  17446.000000  17436.000000\n",
       "mean    8722.500000      5.205494\n",
       "std     5036.370734      0.669321\n",
       "min        0.000000      2.000000\n",
       "25%     4361.250000      5.000000\n",
       "50%     8722.500000      5.000000\n",
       "75%    13083.750000      5.000000\n",
       "max    17445.000000     14.000000"
      ]
     },
     "execution_count": 5,
     "metadata": {},
     "output_type": "execute_result"
    }
   ],
   "source": [
    "resale_data.describe()"
   ]
  },
  {
   "cell_type": "code",
   "execution_count": 6,
   "id": "91adbd72",
   "metadata": {
    "execution": {
     "iopub.execute_input": "2024-10-15T12:25:03.090173Z",
     "iopub.status.busy": "2024-10-15T12:25:03.089640Z",
     "iopub.status.idle": "2024-10-15T12:25:03.097457Z",
     "shell.execute_reply": "2024-10-15T12:25:03.096308Z"
    },
    "papermill": {
     "duration": 0.031872,
     "end_time": "2024-10-15T12:25:03.100091",
     "exception": false,
     "start_time": "2024-10-15T12:25:03.068219",
     "status": "completed"
    },
    "tags": []
   },
   "outputs": [
    {
     "data": {
      "text/plain": [
       "(17446, 15)"
      ]
     },
     "execution_count": 6,
     "metadata": {},
     "output_type": "execute_result"
    }
   ],
   "source": [
    "resale_data.shape"
   ]
  },
  {
   "cell_type": "code",
   "execution_count": 7,
   "id": "672dabf0",
   "metadata": {
    "execution": {
     "iopub.execute_input": "2024-10-15T12:25:03.142373Z",
     "iopub.status.busy": "2024-10-15T12:25:03.141848Z",
     "iopub.status.idle": "2024-10-15T12:25:03.175897Z",
     "shell.execute_reply": "2024-10-15T12:25:03.174764Z"
    },
    "papermill": {
     "duration": 0.058098,
     "end_time": "2024-10-15T12:25:03.178389",
     "exception": false,
     "start_time": "2024-10-15T12:25:03.120291",
     "status": "completed"
    },
    "tags": []
   },
   "outputs": [
    {
     "data": {
      "text/plain": [
       "Unnamed: 0             0\n",
       "full_name              0\n",
       "resale_price           0\n",
       "registered_year       69\n",
       "engine_capacity       14\n",
       "insurance              7\n",
       "transmission_type      0\n",
       "kms_driven             3\n",
       "owner_type            45\n",
       "fuel_type              0\n",
       "max_power            102\n",
       "seats                 10\n",
       "mileage              508\n",
       "body_type              0\n",
       "city                   0\n",
       "dtype: int64"
      ]
     },
     "execution_count": 7,
     "metadata": {},
     "output_type": "execute_result"
    }
   ],
   "source": [
    "resale_data.isnull().sum()"
   ]
  },
  {
   "cell_type": "code",
   "execution_count": 8,
   "id": "df4c1851",
   "metadata": {
    "execution": {
     "iopub.execute_input": "2024-10-15T12:25:03.220702Z",
     "iopub.status.busy": "2024-10-15T12:25:03.220251Z",
     "iopub.status.idle": "2024-10-15T12:25:03.248702Z",
     "shell.execute_reply": "2024-10-15T12:25:03.247514Z"
    },
    "papermill": {
     "duration": 0.053075,
     "end_time": "2024-10-15T12:25:03.251659",
     "exception": false,
     "start_time": "2024-10-15T12:25:03.198584",
     "status": "completed"
    },
    "tags": []
   },
   "outputs": [],
   "source": [
    "resale_data['registered_year'] = resale_data['full_name'].apply(lambda x: x.split(' ')[0]).astype(float)\n"
   ]
  },
  {
   "cell_type": "code",
   "execution_count": 9,
   "id": "38ec7845",
   "metadata": {
    "execution": {
     "iopub.execute_input": "2024-10-15T12:25:03.293847Z",
     "iopub.status.busy": "2024-10-15T12:25:03.293428Z",
     "iopub.status.idle": "2024-10-15T12:25:03.302285Z",
     "shell.execute_reply": "2024-10-15T12:25:03.301180Z"
    },
    "papermill": {
     "duration": 0.033227,
     "end_time": "2024-10-15T12:25:03.304884",
     "exception": false,
     "start_time": "2024-10-15T12:25:03.271657",
     "status": "completed"
    },
    "tags": []
   },
   "outputs": [
    {
     "data": {
      "text/plain": [
       "0"
      ]
     },
     "execution_count": 9,
     "metadata": {},
     "output_type": "execute_result"
    }
   ],
   "source": [
    "resale_data['registered_year'].isnull().sum()"
   ]
  },
  {
   "cell_type": "code",
   "execution_count": 10,
   "id": "0cfa4dd1",
   "metadata": {
    "execution": {
     "iopub.execute_input": "2024-10-15T12:25:03.347850Z",
     "iopub.status.busy": "2024-10-15T12:25:03.347394Z",
     "iopub.status.idle": "2024-10-15T12:25:03.382914Z",
     "shell.execute_reply": "2024-10-15T12:25:03.381689Z"
    },
    "papermill": {
     "duration": 0.061236,
     "end_time": "2024-10-15T12:25:03.386076",
     "exception": false,
     "start_time": "2024-10-15T12:25:03.324840",
     "status": "completed"
    },
    "tags": []
   },
   "outputs": [],
   "source": [
    "resale_data.dropna(inplace=True)"
   ]
  },
  {
   "cell_type": "code",
   "execution_count": 11,
   "id": "030df7a6",
   "metadata": {
    "execution": {
     "iopub.execute_input": "2024-10-15T12:25:03.496062Z",
     "iopub.status.busy": "2024-10-15T12:25:03.495633Z",
     "iopub.status.idle": "2024-10-15T12:25:03.527527Z",
     "shell.execute_reply": "2024-10-15T12:25:03.526189Z"
    },
    "papermill": {
     "duration": 0.123405,
     "end_time": "2024-10-15T12:25:03.530339",
     "exception": false,
     "start_time": "2024-10-15T12:25:03.406934",
     "status": "completed"
    },
    "tags": []
   },
   "outputs": [
    {
     "data": {
      "text/plain": [
       "Unnamed: 0           0\n",
       "full_name            0\n",
       "resale_price         0\n",
       "registered_year      0\n",
       "engine_capacity      0\n",
       "insurance            0\n",
       "transmission_type    0\n",
       "kms_driven           0\n",
       "owner_type           0\n",
       "fuel_type            0\n",
       "max_power            0\n",
       "seats                0\n",
       "mileage              0\n",
       "body_type            0\n",
       "city                 0\n",
       "dtype: int64"
      ]
     },
     "execution_count": 11,
     "metadata": {},
     "output_type": "execute_result"
    }
   ],
   "source": [
    "resale_data.isnull().sum()"
   ]
  },
  {
   "cell_type": "code",
   "execution_count": 12,
   "id": "97b9137a",
   "metadata": {
    "execution": {
     "iopub.execute_input": "2024-10-15T12:25:03.573125Z",
     "iopub.status.busy": "2024-10-15T12:25:03.572691Z",
     "iopub.status.idle": "2024-10-15T12:25:03.609574Z",
     "shell.execute_reply": "2024-10-15T12:25:03.607962Z"
    },
    "papermill": {
     "duration": 0.0616,
     "end_time": "2024-10-15T12:25:03.612391",
     "exception": false,
     "start_time": "2024-10-15T12:25:03.550791",
     "status": "completed"
    },
    "tags": []
   },
   "outputs": [
    {
     "name": "stdout",
     "output_type": "stream",
     "text": [
      "<class 'pandas.core.frame.DataFrame'>\n",
      "Index: 16808 entries, 0 to 17445\n",
      "Data columns (total 15 columns):\n",
      " #   Column             Non-Null Count  Dtype  \n",
      "---  ------             --------------  -----  \n",
      " 0   Unnamed: 0         16808 non-null  int64  \n",
      " 1   full_name          16808 non-null  object \n",
      " 2   resale_price       16808 non-null  object \n",
      " 3   registered_year    16808 non-null  float64\n",
      " 4   engine_capacity    16808 non-null  object \n",
      " 5   insurance          16808 non-null  object \n",
      " 6   transmission_type  16808 non-null  object \n",
      " 7   kms_driven         16808 non-null  object \n",
      " 8   owner_type         16808 non-null  object \n",
      " 9   fuel_type          16808 non-null  object \n",
      " 10  max_power          16808 non-null  object \n",
      " 11  seats              16808 non-null  float64\n",
      " 12  mileage            16808 non-null  object \n",
      " 13  body_type          16808 non-null  object \n",
      " 14  city               16808 non-null  object \n",
      "dtypes: float64(2), int64(1), object(12)\n",
      "memory usage: 2.1+ MB\n"
     ]
    }
   ],
   "source": [
    "resale_data.info()"
   ]
  },
  {
   "cell_type": "code",
   "execution_count": 13,
   "id": "79ce0f74",
   "metadata": {
    "execution": {
     "iopub.execute_input": "2024-10-15T12:25:03.655651Z",
     "iopub.status.busy": "2024-10-15T12:25:03.655180Z",
     "iopub.status.idle": "2024-10-15T12:25:03.678035Z",
     "shell.execute_reply": "2024-10-15T12:25:03.676854Z"
    },
    "papermill": {
     "duration": 0.047729,
     "end_time": "2024-10-15T12:25:03.680667",
     "exception": false,
     "start_time": "2024-10-15T12:25:03.632938",
     "status": "completed"
    },
    "tags": []
   },
   "outputs": [
    {
     "data": {
      "text/html": [
       "<div>\n",
       "<style scoped>\n",
       "    .dataframe tbody tr th:only-of-type {\n",
       "        vertical-align: middle;\n",
       "    }\n",
       "\n",
       "    .dataframe tbody tr th {\n",
       "        vertical-align: top;\n",
       "    }\n",
       "\n",
       "    .dataframe thead th {\n",
       "        text-align: right;\n",
       "    }\n",
       "</style>\n",
       "<table border=\"1\" class=\"dataframe\">\n",
       "  <thead>\n",
       "    <tr style=\"text-align: right;\">\n",
       "      <th></th>\n",
       "      <th>Unnamed: 0</th>\n",
       "      <th>full_name</th>\n",
       "      <th>resale_price</th>\n",
       "      <th>registered_year</th>\n",
       "      <th>engine_capacity</th>\n",
       "      <th>insurance</th>\n",
       "      <th>transmission_type</th>\n",
       "      <th>kms_driven</th>\n",
       "      <th>owner_type</th>\n",
       "      <th>fuel_type</th>\n",
       "      <th>max_power</th>\n",
       "      <th>seats</th>\n",
       "      <th>mileage</th>\n",
       "      <th>body_type</th>\n",
       "      <th>city</th>\n",
       "    </tr>\n",
       "  </thead>\n",
       "  <tbody>\n",
       "    <tr>\n",
       "      <th>0</th>\n",
       "      <td>0</td>\n",
       "      <td>2017 Maruti Baleno 1.2 Alpha</td>\n",
       "      <td>₹ 5.45 Lakh</td>\n",
       "      <td>2017.0</td>\n",
       "      <td>1197 cc</td>\n",
       "      <td>Third Party insurance</td>\n",
       "      <td>Manual</td>\n",
       "      <td>40,000 Kms</td>\n",
       "      <td>First Owner</td>\n",
       "      <td>Petrol</td>\n",
       "      <td>83.1bhp</td>\n",
       "      <td>5.0</td>\n",
       "      <td>21.4 kmpl</td>\n",
       "      <td>Hatchback</td>\n",
       "      <td>Agra</td>\n",
       "    </tr>\n",
       "    <tr>\n",
       "      <th>1</th>\n",
       "      <td>1</td>\n",
       "      <td>2018 Tata Hexa XTA</td>\n",
       "      <td>₹ 10 Lakh</td>\n",
       "      <td>2018.0</td>\n",
       "      <td>2179 cc</td>\n",
       "      <td>Third Party insurance</td>\n",
       "      <td>Automatic</td>\n",
       "      <td>70,000 Kms</td>\n",
       "      <td>First Owner</td>\n",
       "      <td>Diesel</td>\n",
       "      <td>153.86bhp</td>\n",
       "      <td>7.0</td>\n",
       "      <td>17.6 kmpl</td>\n",
       "      <td>MUV</td>\n",
       "      <td>Agra</td>\n",
       "    </tr>\n",
       "    <tr>\n",
       "      <th>2</th>\n",
       "      <td>2</td>\n",
       "      <td>2015 Maruti Swift Dzire VXI</td>\n",
       "      <td>₹ 4.50 Lakh</td>\n",
       "      <td>2015.0</td>\n",
       "      <td>1197 cc</td>\n",
       "      <td>Third Party insurance</td>\n",
       "      <td>Manual</td>\n",
       "      <td>70,000 Kms</td>\n",
       "      <td>Second Owner</td>\n",
       "      <td>Petrol</td>\n",
       "      <td>83.14bhp</td>\n",
       "      <td>5.0</td>\n",
       "      <td>20.85 kmpl</td>\n",
       "      <td>Sedan</td>\n",
       "      <td>Agra</td>\n",
       "    </tr>\n",
       "    <tr>\n",
       "      <th>3</th>\n",
       "      <td>3</td>\n",
       "      <td>2015 Maruti Swift Dzire VXI</td>\n",
       "      <td>₹ 4.50 Lakh</td>\n",
       "      <td>2015.0</td>\n",
       "      <td>1197 cc</td>\n",
       "      <td>Third Party insurance</td>\n",
       "      <td>Manual</td>\n",
       "      <td>70,000 Kms</td>\n",
       "      <td>Second Owner</td>\n",
       "      <td>Petrol</td>\n",
       "      <td>83.14bhp</td>\n",
       "      <td>5.0</td>\n",
       "      <td>20.85 kmpl</td>\n",
       "      <td>Sedan</td>\n",
       "      <td>Agra</td>\n",
       "    </tr>\n",
       "    <tr>\n",
       "      <th>4</th>\n",
       "      <td>4</td>\n",
       "      <td>2009 Hyundai i10 Magna 1.1</td>\n",
       "      <td>₹ 1.60 Lakh</td>\n",
       "      <td>2009.0</td>\n",
       "      <td>1086 cc</td>\n",
       "      <td>Third Party insurance</td>\n",
       "      <td>Manual</td>\n",
       "      <td>80,000 Kms</td>\n",
       "      <td>First Owner</td>\n",
       "      <td>Petrol</td>\n",
       "      <td>68.05bhp</td>\n",
       "      <td>5.0</td>\n",
       "      <td>19.81 kmpl</td>\n",
       "      <td>Hatchback</td>\n",
       "      <td>Agra</td>\n",
       "    </tr>\n",
       "  </tbody>\n",
       "</table>\n",
       "</div>"
      ],
      "text/plain": [
       "   Unnamed: 0                     full_name resale_price  registered_year  \\\n",
       "0           0  2017 Maruti Baleno 1.2 Alpha  ₹ 5.45 Lakh           2017.0   \n",
       "1           1            2018 Tata Hexa XTA    ₹ 10 Lakh           2018.0   \n",
       "2           2   2015 Maruti Swift Dzire VXI  ₹ 4.50 Lakh           2015.0   \n",
       "3           3   2015 Maruti Swift Dzire VXI  ₹ 4.50 Lakh           2015.0   \n",
       "4           4    2009 Hyundai i10 Magna 1.1  ₹ 1.60 Lakh           2009.0   \n",
       "\n",
       "  engine_capacity              insurance transmission_type  kms_driven  \\\n",
       "0         1197 cc  Third Party insurance            Manual  40,000 Kms   \n",
       "1         2179 cc  Third Party insurance         Automatic  70,000 Kms   \n",
       "2         1197 cc  Third Party insurance            Manual  70,000 Kms   \n",
       "3         1197 cc  Third Party insurance            Manual  70,000 Kms   \n",
       "4         1086 cc  Third Party insurance            Manual  80,000 Kms   \n",
       "\n",
       "     owner_type fuel_type  max_power  seats     mileage  body_type  city  \n",
       "0   First Owner    Petrol    83.1bhp    5.0   21.4 kmpl  Hatchback  Agra  \n",
       "1   First Owner    Diesel  153.86bhp    7.0   17.6 kmpl        MUV  Agra  \n",
       "2  Second Owner    Petrol   83.14bhp    5.0  20.85 kmpl      Sedan  Agra  \n",
       "3  Second Owner    Petrol   83.14bhp    5.0  20.85 kmpl      Sedan  Agra  \n",
       "4   First Owner    Petrol   68.05bhp    5.0  19.81 kmpl  Hatchback  Agra  "
      ]
     },
     "execution_count": 13,
     "metadata": {},
     "output_type": "execute_result"
    }
   ],
   "source": [
    "resale_data.head()"
   ]
  },
  {
   "cell_type": "markdown",
   "id": "32928161",
   "metadata": {
    "papermill": {
     "duration": 0.020486,
     "end_time": "2024-10-15T12:25:03.722281",
     "exception": false,
     "start_time": "2024-10-15T12:25:03.701795",
     "status": "completed"
    },
    "tags": []
   },
   "source": [
    "## Formatting Numarical Data"
   ]
  },
  {
   "cell_type": "code",
   "execution_count": 14,
   "id": "d8adda4b",
   "metadata": {
    "execution": {
     "iopub.execute_input": "2024-10-15T12:25:03.766233Z",
     "iopub.status.busy": "2024-10-15T12:25:03.765811Z",
     "iopub.status.idle": "2024-10-15T12:25:03.771624Z",
     "shell.execute_reply": "2024-10-15T12:25:03.770262Z"
    },
    "papermill": {
     "duration": 0.031902,
     "end_time": "2024-10-15T12:25:03.775280",
     "exception": false,
     "start_time": "2024-10-15T12:25:03.743378",
     "status": "completed"
    },
    "tags": []
   },
   "outputs": [],
   "source": [
    "num_cols = ['seats','registered_year']"
   ]
  },
  {
   "cell_type": "markdown",
   "id": "e4efb14e",
   "metadata": {
    "papermill": {
     "duration": 0.020931,
     "end_time": "2024-10-15T12:25:03.819557",
     "exception": false,
     "start_time": "2024-10-15T12:25:03.798626",
     "status": "completed"
    },
    "tags": []
   },
   "source": [
    "# Numarical Price"
   ]
  },
  {
   "cell_type": "code",
   "execution_count": 15,
   "id": "669bd20f",
   "metadata": {
    "execution": {
     "iopub.execute_input": "2024-10-15T12:25:03.864013Z",
     "iopub.status.busy": "2024-10-15T12:25:03.863588Z",
     "iopub.status.idle": "2024-10-15T12:25:03.917246Z",
     "shell.execute_reply": "2024-10-15T12:25:03.916200Z"
    },
    "papermill": {
     "duration": 0.079271,
     "end_time": "2024-10-15T12:25:03.919905",
     "exception": false,
     "start_time": "2024-10-15T12:25:03.840634",
     "status": "completed"
    },
    "tags": []
   },
   "outputs": [
    {
     "data": {
      "text/html": [
       "<div>\n",
       "<style scoped>\n",
       "    .dataframe tbody tr th:only-of-type {\n",
       "        vertical-align: middle;\n",
       "    }\n",
       "\n",
       "    .dataframe tbody tr th {\n",
       "        vertical-align: top;\n",
       "    }\n",
       "\n",
       "    .dataframe thead th {\n",
       "        text-align: right;\n",
       "    }\n",
       "</style>\n",
       "<table border=\"1\" class=\"dataframe\">\n",
       "  <thead>\n",
       "    <tr style=\"text-align: right;\">\n",
       "      <th></th>\n",
       "      <th>Unnamed: 0</th>\n",
       "      <th>full_name</th>\n",
       "      <th>resale_price</th>\n",
       "      <th>registered_year</th>\n",
       "      <th>engine_capacity</th>\n",
       "      <th>insurance</th>\n",
       "      <th>transmission_type</th>\n",
       "      <th>kms_driven</th>\n",
       "      <th>owner_type</th>\n",
       "      <th>fuel_type</th>\n",
       "      <th>max_power</th>\n",
       "      <th>seats</th>\n",
       "      <th>mileage</th>\n",
       "      <th>body_type</th>\n",
       "      <th>city</th>\n",
       "      <th>num_price</th>\n",
       "    </tr>\n",
       "  </thead>\n",
       "  <tbody>\n",
       "    <tr>\n",
       "      <th>0</th>\n",
       "      <td>0</td>\n",
       "      <td>2017 Maruti Baleno 1.2 Alpha</td>\n",
       "      <td>₹ 5.45 Lakh</td>\n",
       "      <td>2017.0</td>\n",
       "      <td>1197 cc</td>\n",
       "      <td>Third Party insurance</td>\n",
       "      <td>Manual</td>\n",
       "      <td>40,000 Kms</td>\n",
       "      <td>First Owner</td>\n",
       "      <td>Petrol</td>\n",
       "      <td>83.1bhp</td>\n",
       "      <td>5.0</td>\n",
       "      <td>21.4 kmpl</td>\n",
       "      <td>Hatchback</td>\n",
       "      <td>Agra</td>\n",
       "      <td>545000.0</td>\n",
       "    </tr>\n",
       "    <tr>\n",
       "      <th>1</th>\n",
       "      <td>1</td>\n",
       "      <td>2018 Tata Hexa XTA</td>\n",
       "      <td>₹ 10 Lakh</td>\n",
       "      <td>2018.0</td>\n",
       "      <td>2179 cc</td>\n",
       "      <td>Third Party insurance</td>\n",
       "      <td>Automatic</td>\n",
       "      <td>70,000 Kms</td>\n",
       "      <td>First Owner</td>\n",
       "      <td>Diesel</td>\n",
       "      <td>153.86bhp</td>\n",
       "      <td>7.0</td>\n",
       "      <td>17.6 kmpl</td>\n",
       "      <td>MUV</td>\n",
       "      <td>Agra</td>\n",
       "      <td>1000000.0</td>\n",
       "    </tr>\n",
       "    <tr>\n",
       "      <th>2</th>\n",
       "      <td>2</td>\n",
       "      <td>2015 Maruti Swift Dzire VXI</td>\n",
       "      <td>₹ 4.50 Lakh</td>\n",
       "      <td>2015.0</td>\n",
       "      <td>1197 cc</td>\n",
       "      <td>Third Party insurance</td>\n",
       "      <td>Manual</td>\n",
       "      <td>70,000 Kms</td>\n",
       "      <td>Second Owner</td>\n",
       "      <td>Petrol</td>\n",
       "      <td>83.14bhp</td>\n",
       "      <td>5.0</td>\n",
       "      <td>20.85 kmpl</td>\n",
       "      <td>Sedan</td>\n",
       "      <td>Agra</td>\n",
       "      <td>450000.0</td>\n",
       "    </tr>\n",
       "    <tr>\n",
       "      <th>3</th>\n",
       "      <td>3</td>\n",
       "      <td>2015 Maruti Swift Dzire VXI</td>\n",
       "      <td>₹ 4.50 Lakh</td>\n",
       "      <td>2015.0</td>\n",
       "      <td>1197 cc</td>\n",
       "      <td>Third Party insurance</td>\n",
       "      <td>Manual</td>\n",
       "      <td>70,000 Kms</td>\n",
       "      <td>Second Owner</td>\n",
       "      <td>Petrol</td>\n",
       "      <td>83.14bhp</td>\n",
       "      <td>5.0</td>\n",
       "      <td>20.85 kmpl</td>\n",
       "      <td>Sedan</td>\n",
       "      <td>Agra</td>\n",
       "      <td>450000.0</td>\n",
       "    </tr>\n",
       "    <tr>\n",
       "      <th>4</th>\n",
       "      <td>4</td>\n",
       "      <td>2009 Hyundai i10 Magna 1.1</td>\n",
       "      <td>₹ 1.60 Lakh</td>\n",
       "      <td>2009.0</td>\n",
       "      <td>1086 cc</td>\n",
       "      <td>Third Party insurance</td>\n",
       "      <td>Manual</td>\n",
       "      <td>80,000 Kms</td>\n",
       "      <td>First Owner</td>\n",
       "      <td>Petrol</td>\n",
       "      <td>68.05bhp</td>\n",
       "      <td>5.0</td>\n",
       "      <td>19.81 kmpl</td>\n",
       "      <td>Hatchback</td>\n",
       "      <td>Agra</td>\n",
       "      <td>160000.0</td>\n",
       "    </tr>\n",
       "  </tbody>\n",
       "</table>\n",
       "</div>"
      ],
      "text/plain": [
       "   Unnamed: 0                     full_name resale_price  registered_year  \\\n",
       "0           0  2017 Maruti Baleno 1.2 Alpha  ₹ 5.45 Lakh           2017.0   \n",
       "1           1            2018 Tata Hexa XTA    ₹ 10 Lakh           2018.0   \n",
       "2           2   2015 Maruti Swift Dzire VXI  ₹ 4.50 Lakh           2015.0   \n",
       "3           3   2015 Maruti Swift Dzire VXI  ₹ 4.50 Lakh           2015.0   \n",
       "4           4    2009 Hyundai i10 Magna 1.1  ₹ 1.60 Lakh           2009.0   \n",
       "\n",
       "  engine_capacity              insurance transmission_type  kms_driven  \\\n",
       "0         1197 cc  Third Party insurance            Manual  40,000 Kms   \n",
       "1         2179 cc  Third Party insurance         Automatic  70,000 Kms   \n",
       "2         1197 cc  Third Party insurance            Manual  70,000 Kms   \n",
       "3         1197 cc  Third Party insurance            Manual  70,000 Kms   \n",
       "4         1086 cc  Third Party insurance            Manual  80,000 Kms   \n",
       "\n",
       "     owner_type fuel_type  max_power  seats     mileage  body_type  city  \\\n",
       "0   First Owner    Petrol    83.1bhp    5.0   21.4 kmpl  Hatchback  Agra   \n",
       "1   First Owner    Diesel  153.86bhp    7.0   17.6 kmpl        MUV  Agra   \n",
       "2  Second Owner    Petrol   83.14bhp    5.0  20.85 kmpl      Sedan  Agra   \n",
       "3  Second Owner    Petrol   83.14bhp    5.0  20.85 kmpl      Sedan  Agra   \n",
       "4   First Owner    Petrol   68.05bhp    5.0  19.81 kmpl  Hatchback  Agra   \n",
       "\n",
       "   num_price  \n",
       "0   545000.0  \n",
       "1  1000000.0  \n",
       "2   450000.0  \n",
       "3   450000.0  \n",
       "4   160000.0  "
      ]
     },
     "execution_count": 15,
     "metadata": {},
     "output_type": "execute_result"
    }
   ],
   "source": [
    "def format_price(resale_price):\n",
    "    split = resale_price.split(' ')\n",
    "    k = len(split)\n",
    "    if(k == 2):\n",
    "        return float(str(split[1]).replace(',', ''))\n",
    "    elif(split[-1] == 'Lakh'):\n",
    "        return float(str(split[1]))*100000\n",
    "    return float(str(split[1]))*10000000\n",
    "\n",
    "resale_data['num_price'] = resale_data['resale_price'].apply(format_price)\n",
    "num_cols.append('num_price')\n",
    "resale_data.head(5)"
   ]
  },
  {
   "cell_type": "code",
   "execution_count": 16,
   "id": "f9cfcaf1",
   "metadata": {
    "execution": {
     "iopub.execute_input": "2024-10-15T12:25:03.964750Z",
     "iopub.status.busy": "2024-10-15T12:25:03.964297Z",
     "iopub.status.idle": "2024-10-15T12:25:04.020731Z",
     "shell.execute_reply": "2024-10-15T12:25:04.019481Z"
    },
    "papermill": {
     "duration": 0.082136,
     "end_time": "2024-10-15T12:25:04.023367",
     "exception": false,
     "start_time": "2024-10-15T12:25:03.941231",
     "status": "completed"
    },
    "tags": []
   },
   "outputs": [
    {
     "data": {
      "text/html": [
       "<div>\n",
       "<style scoped>\n",
       "    .dataframe tbody tr th:only-of-type {\n",
       "        vertical-align: middle;\n",
       "    }\n",
       "\n",
       "    .dataframe tbody tr th {\n",
       "        vertical-align: top;\n",
       "    }\n",
       "\n",
       "    .dataframe thead th {\n",
       "        text-align: right;\n",
       "    }\n",
       "</style>\n",
       "<table border=\"1\" class=\"dataframe\">\n",
       "  <thead>\n",
       "    <tr style=\"text-align: right;\">\n",
       "      <th></th>\n",
       "      <th>Unnamed: 0</th>\n",
       "      <th>full_name</th>\n",
       "      <th>resale_price</th>\n",
       "      <th>registered_year</th>\n",
       "      <th>engine_capacity</th>\n",
       "      <th>insurance</th>\n",
       "      <th>transmission_type</th>\n",
       "      <th>kms_driven</th>\n",
       "      <th>owner_type</th>\n",
       "      <th>fuel_type</th>\n",
       "      <th>max_power</th>\n",
       "      <th>seats</th>\n",
       "      <th>mileage</th>\n",
       "      <th>body_type</th>\n",
       "      <th>city</th>\n",
       "      <th>num_price</th>\n",
       "      <th>num_kms</th>\n",
       "    </tr>\n",
       "  </thead>\n",
       "  <tbody>\n",
       "    <tr>\n",
       "      <th>0</th>\n",
       "      <td>0</td>\n",
       "      <td>2017 Maruti Baleno 1.2 Alpha</td>\n",
       "      <td>₹ 5.45 Lakh</td>\n",
       "      <td>2017.0</td>\n",
       "      <td>1197 cc</td>\n",
       "      <td>Third Party insurance</td>\n",
       "      <td>Manual</td>\n",
       "      <td>40,000 Kms</td>\n",
       "      <td>First Owner</td>\n",
       "      <td>Petrol</td>\n",
       "      <td>83.1bhp</td>\n",
       "      <td>5.0</td>\n",
       "      <td>21.4 kmpl</td>\n",
       "      <td>Hatchback</td>\n",
       "      <td>Agra</td>\n",
       "      <td>545000.0</td>\n",
       "      <td>40000.0</td>\n",
       "    </tr>\n",
       "    <tr>\n",
       "      <th>1</th>\n",
       "      <td>1</td>\n",
       "      <td>2018 Tata Hexa XTA</td>\n",
       "      <td>₹ 10 Lakh</td>\n",
       "      <td>2018.0</td>\n",
       "      <td>2179 cc</td>\n",
       "      <td>Third Party insurance</td>\n",
       "      <td>Automatic</td>\n",
       "      <td>70,000 Kms</td>\n",
       "      <td>First Owner</td>\n",
       "      <td>Diesel</td>\n",
       "      <td>153.86bhp</td>\n",
       "      <td>7.0</td>\n",
       "      <td>17.6 kmpl</td>\n",
       "      <td>MUV</td>\n",
       "      <td>Agra</td>\n",
       "      <td>1000000.0</td>\n",
       "      <td>70000.0</td>\n",
       "    </tr>\n",
       "    <tr>\n",
       "      <th>2</th>\n",
       "      <td>2</td>\n",
       "      <td>2015 Maruti Swift Dzire VXI</td>\n",
       "      <td>₹ 4.50 Lakh</td>\n",
       "      <td>2015.0</td>\n",
       "      <td>1197 cc</td>\n",
       "      <td>Third Party insurance</td>\n",
       "      <td>Manual</td>\n",
       "      <td>70,000 Kms</td>\n",
       "      <td>Second Owner</td>\n",
       "      <td>Petrol</td>\n",
       "      <td>83.14bhp</td>\n",
       "      <td>5.0</td>\n",
       "      <td>20.85 kmpl</td>\n",
       "      <td>Sedan</td>\n",
       "      <td>Agra</td>\n",
       "      <td>450000.0</td>\n",
       "      <td>70000.0</td>\n",
       "    </tr>\n",
       "    <tr>\n",
       "      <th>3</th>\n",
       "      <td>3</td>\n",
       "      <td>2015 Maruti Swift Dzire VXI</td>\n",
       "      <td>₹ 4.50 Lakh</td>\n",
       "      <td>2015.0</td>\n",
       "      <td>1197 cc</td>\n",
       "      <td>Third Party insurance</td>\n",
       "      <td>Manual</td>\n",
       "      <td>70,000 Kms</td>\n",
       "      <td>Second Owner</td>\n",
       "      <td>Petrol</td>\n",
       "      <td>83.14bhp</td>\n",
       "      <td>5.0</td>\n",
       "      <td>20.85 kmpl</td>\n",
       "      <td>Sedan</td>\n",
       "      <td>Agra</td>\n",
       "      <td>450000.0</td>\n",
       "      <td>70000.0</td>\n",
       "    </tr>\n",
       "    <tr>\n",
       "      <th>4</th>\n",
       "      <td>4</td>\n",
       "      <td>2009 Hyundai i10 Magna 1.1</td>\n",
       "      <td>₹ 1.60 Lakh</td>\n",
       "      <td>2009.0</td>\n",
       "      <td>1086 cc</td>\n",
       "      <td>Third Party insurance</td>\n",
       "      <td>Manual</td>\n",
       "      <td>80,000 Kms</td>\n",
       "      <td>First Owner</td>\n",
       "      <td>Petrol</td>\n",
       "      <td>68.05bhp</td>\n",
       "      <td>5.0</td>\n",
       "      <td>19.81 kmpl</td>\n",
       "      <td>Hatchback</td>\n",
       "      <td>Agra</td>\n",
       "      <td>160000.0</td>\n",
       "      <td>80000.0</td>\n",
       "    </tr>\n",
       "  </tbody>\n",
       "</table>\n",
       "</div>"
      ],
      "text/plain": [
       "   Unnamed: 0                     full_name resale_price  registered_year  \\\n",
       "0           0  2017 Maruti Baleno 1.2 Alpha  ₹ 5.45 Lakh           2017.0   \n",
       "1           1            2018 Tata Hexa XTA    ₹ 10 Lakh           2018.0   \n",
       "2           2   2015 Maruti Swift Dzire VXI  ₹ 4.50 Lakh           2015.0   \n",
       "3           3   2015 Maruti Swift Dzire VXI  ₹ 4.50 Lakh           2015.0   \n",
       "4           4    2009 Hyundai i10 Magna 1.1  ₹ 1.60 Lakh           2009.0   \n",
       "\n",
       "  engine_capacity              insurance transmission_type  kms_driven  \\\n",
       "0         1197 cc  Third Party insurance            Manual  40,000 Kms   \n",
       "1         2179 cc  Third Party insurance         Automatic  70,000 Kms   \n",
       "2         1197 cc  Third Party insurance            Manual  70,000 Kms   \n",
       "3         1197 cc  Third Party insurance            Manual  70,000 Kms   \n",
       "4         1086 cc  Third Party insurance            Manual  80,000 Kms   \n",
       "\n",
       "     owner_type fuel_type  max_power  seats     mileage  body_type  city  \\\n",
       "0   First Owner    Petrol    83.1bhp    5.0   21.4 kmpl  Hatchback  Agra   \n",
       "1   First Owner    Diesel  153.86bhp    7.0   17.6 kmpl        MUV  Agra   \n",
       "2  Second Owner    Petrol   83.14bhp    5.0  20.85 kmpl      Sedan  Agra   \n",
       "3  Second Owner    Petrol   83.14bhp    5.0  20.85 kmpl      Sedan  Agra   \n",
       "4   First Owner    Petrol   68.05bhp    5.0  19.81 kmpl  Hatchback  Agra   \n",
       "\n",
       "   num_price  num_kms  \n",
       "0   545000.0  40000.0  \n",
       "1  1000000.0  70000.0  \n",
       "2   450000.0  70000.0  \n",
       "3   450000.0  70000.0  \n",
       "4   160000.0  80000.0  "
      ]
     },
     "execution_count": 16,
     "metadata": {},
     "output_type": "execute_result"
    }
   ],
   "source": [
    "def format_kms(kms_driven):\n",
    "    if kms_driven.split(' ')[1] != 'Kms':\n",
    "        print(kms_driven.split(' ')[1])\n",
    "    return float(str(kms_driven.split(' ')[0]).replace(',', ''))\n",
    "\n",
    "resale_data['num_kms'] = resale_data['kms_driven'].apply(format_kms)\n",
    "num_cols.append('num_kms')\n",
    "resale_data.head(5)\n"
   ]
  },
  {
   "cell_type": "code",
   "execution_count": 17,
   "id": "c54aca5c",
   "metadata": {
    "execution": {
     "iopub.execute_input": "2024-10-15T12:25:04.069672Z",
     "iopub.status.busy": "2024-10-15T12:25:04.068441Z",
     "iopub.status.idle": "2024-10-15T12:25:04.120149Z",
     "shell.execute_reply": "2024-10-15T12:25:04.118969Z"
    },
    "papermill": {
     "duration": 0.07771,
     "end_time": "2024-10-15T12:25:04.122833",
     "exception": false,
     "start_time": "2024-10-15T12:25:04.045123",
     "status": "completed"
    },
    "tags": []
   },
   "outputs": [
    {
     "data": {
      "text/html": [
       "<div>\n",
       "<style scoped>\n",
       "    .dataframe tbody tr th:only-of-type {\n",
       "        vertical-align: middle;\n",
       "    }\n",
       "\n",
       "    .dataframe tbody tr th {\n",
       "        vertical-align: top;\n",
       "    }\n",
       "\n",
       "    .dataframe thead th {\n",
       "        text-align: right;\n",
       "    }\n",
       "</style>\n",
       "<table border=\"1\" class=\"dataframe\">\n",
       "  <thead>\n",
       "    <tr style=\"text-align: right;\">\n",
       "      <th></th>\n",
       "      <th>Unnamed: 0</th>\n",
       "      <th>full_name</th>\n",
       "      <th>resale_price</th>\n",
       "      <th>registered_year</th>\n",
       "      <th>engine_capacity</th>\n",
       "      <th>insurance</th>\n",
       "      <th>transmission_type</th>\n",
       "      <th>kms_driven</th>\n",
       "      <th>owner_type</th>\n",
       "      <th>fuel_type</th>\n",
       "      <th>max_power</th>\n",
       "      <th>seats</th>\n",
       "      <th>mileage</th>\n",
       "      <th>body_type</th>\n",
       "      <th>city</th>\n",
       "      <th>num_price</th>\n",
       "      <th>num_kms</th>\n",
       "      <th>num_engine</th>\n",
       "    </tr>\n",
       "  </thead>\n",
       "  <tbody>\n",
       "    <tr>\n",
       "      <th>0</th>\n",
       "      <td>0</td>\n",
       "      <td>2017 Maruti Baleno 1.2 Alpha</td>\n",
       "      <td>₹ 5.45 Lakh</td>\n",
       "      <td>2017.0</td>\n",
       "      <td>1197 cc</td>\n",
       "      <td>Third Party insurance</td>\n",
       "      <td>Manual</td>\n",
       "      <td>40,000 Kms</td>\n",
       "      <td>First Owner</td>\n",
       "      <td>Petrol</td>\n",
       "      <td>83.1bhp</td>\n",
       "      <td>5.0</td>\n",
       "      <td>21.4 kmpl</td>\n",
       "      <td>Hatchback</td>\n",
       "      <td>Agra</td>\n",
       "      <td>545000.0</td>\n",
       "      <td>40000.0</td>\n",
       "      <td>1197.0</td>\n",
       "    </tr>\n",
       "    <tr>\n",
       "      <th>1</th>\n",
       "      <td>1</td>\n",
       "      <td>2018 Tata Hexa XTA</td>\n",
       "      <td>₹ 10 Lakh</td>\n",
       "      <td>2018.0</td>\n",
       "      <td>2179 cc</td>\n",
       "      <td>Third Party insurance</td>\n",
       "      <td>Automatic</td>\n",
       "      <td>70,000 Kms</td>\n",
       "      <td>First Owner</td>\n",
       "      <td>Diesel</td>\n",
       "      <td>153.86bhp</td>\n",
       "      <td>7.0</td>\n",
       "      <td>17.6 kmpl</td>\n",
       "      <td>MUV</td>\n",
       "      <td>Agra</td>\n",
       "      <td>1000000.0</td>\n",
       "      <td>70000.0</td>\n",
       "      <td>2179.0</td>\n",
       "    </tr>\n",
       "    <tr>\n",
       "      <th>2</th>\n",
       "      <td>2</td>\n",
       "      <td>2015 Maruti Swift Dzire VXI</td>\n",
       "      <td>₹ 4.50 Lakh</td>\n",
       "      <td>2015.0</td>\n",
       "      <td>1197 cc</td>\n",
       "      <td>Third Party insurance</td>\n",
       "      <td>Manual</td>\n",
       "      <td>70,000 Kms</td>\n",
       "      <td>Second Owner</td>\n",
       "      <td>Petrol</td>\n",
       "      <td>83.14bhp</td>\n",
       "      <td>5.0</td>\n",
       "      <td>20.85 kmpl</td>\n",
       "      <td>Sedan</td>\n",
       "      <td>Agra</td>\n",
       "      <td>450000.0</td>\n",
       "      <td>70000.0</td>\n",
       "      <td>1197.0</td>\n",
       "    </tr>\n",
       "    <tr>\n",
       "      <th>3</th>\n",
       "      <td>3</td>\n",
       "      <td>2015 Maruti Swift Dzire VXI</td>\n",
       "      <td>₹ 4.50 Lakh</td>\n",
       "      <td>2015.0</td>\n",
       "      <td>1197 cc</td>\n",
       "      <td>Third Party insurance</td>\n",
       "      <td>Manual</td>\n",
       "      <td>70,000 Kms</td>\n",
       "      <td>Second Owner</td>\n",
       "      <td>Petrol</td>\n",
       "      <td>83.14bhp</td>\n",
       "      <td>5.0</td>\n",
       "      <td>20.85 kmpl</td>\n",
       "      <td>Sedan</td>\n",
       "      <td>Agra</td>\n",
       "      <td>450000.0</td>\n",
       "      <td>70000.0</td>\n",
       "      <td>1197.0</td>\n",
       "    </tr>\n",
       "    <tr>\n",
       "      <th>4</th>\n",
       "      <td>4</td>\n",
       "      <td>2009 Hyundai i10 Magna 1.1</td>\n",
       "      <td>₹ 1.60 Lakh</td>\n",
       "      <td>2009.0</td>\n",
       "      <td>1086 cc</td>\n",
       "      <td>Third Party insurance</td>\n",
       "      <td>Manual</td>\n",
       "      <td>80,000 Kms</td>\n",
       "      <td>First Owner</td>\n",
       "      <td>Petrol</td>\n",
       "      <td>68.05bhp</td>\n",
       "      <td>5.0</td>\n",
       "      <td>19.81 kmpl</td>\n",
       "      <td>Hatchback</td>\n",
       "      <td>Agra</td>\n",
       "      <td>160000.0</td>\n",
       "      <td>80000.0</td>\n",
       "      <td>1086.0</td>\n",
       "    </tr>\n",
       "  </tbody>\n",
       "</table>\n",
       "</div>"
      ],
      "text/plain": [
       "   Unnamed: 0                     full_name resale_price  registered_year  \\\n",
       "0           0  2017 Maruti Baleno 1.2 Alpha  ₹ 5.45 Lakh           2017.0   \n",
       "1           1            2018 Tata Hexa XTA    ₹ 10 Lakh           2018.0   \n",
       "2           2   2015 Maruti Swift Dzire VXI  ₹ 4.50 Lakh           2015.0   \n",
       "3           3   2015 Maruti Swift Dzire VXI  ₹ 4.50 Lakh           2015.0   \n",
       "4           4    2009 Hyundai i10 Magna 1.1  ₹ 1.60 Lakh           2009.0   \n",
       "\n",
       "  engine_capacity              insurance transmission_type  kms_driven  \\\n",
       "0         1197 cc  Third Party insurance            Manual  40,000 Kms   \n",
       "1         2179 cc  Third Party insurance         Automatic  70,000 Kms   \n",
       "2         1197 cc  Third Party insurance            Manual  70,000 Kms   \n",
       "3         1197 cc  Third Party insurance            Manual  70,000 Kms   \n",
       "4         1086 cc  Third Party insurance            Manual  80,000 Kms   \n",
       "\n",
       "     owner_type fuel_type  max_power  seats     mileage  body_type  city  \\\n",
       "0   First Owner    Petrol    83.1bhp    5.0   21.4 kmpl  Hatchback  Agra   \n",
       "1   First Owner    Diesel  153.86bhp    7.0   17.6 kmpl        MUV  Agra   \n",
       "2  Second Owner    Petrol   83.14bhp    5.0  20.85 kmpl      Sedan  Agra   \n",
       "3  Second Owner    Petrol   83.14bhp    5.0  20.85 kmpl      Sedan  Agra   \n",
       "4   First Owner    Petrol   68.05bhp    5.0  19.81 kmpl  Hatchback  Agra   \n",
       "\n",
       "   num_price  num_kms  num_engine  \n",
       "0   545000.0  40000.0      1197.0  \n",
       "1  1000000.0  70000.0      2179.0  \n",
       "2   450000.0  70000.0      1197.0  \n",
       "3   450000.0  70000.0      1197.0  \n",
       "4   160000.0  80000.0      1086.0  "
      ]
     },
     "execution_count": 17,
     "metadata": {},
     "output_type": "execute_result"
    }
   ],
   "source": [
    "def format_engine(engine_capacity):\n",
    "    if engine_capacity.split(' ')[1] != 'cc':\n",
    "        print(engine_capacity.split(' ')[1])\n",
    "    return float(str(engine_capacity.split(' ')[0]))\n",
    "\n",
    "resale_data['num_engine'] = resale_data['engine_capacity'].apply(format_engine)\n",
    "num_cols.append('num_engine')\n",
    "resale_data.head(5)"
   ]
  },
  {
   "cell_type": "code",
   "execution_count": 18,
   "id": "03fd0835",
   "metadata": {
    "execution": {
     "iopub.execute_input": "2024-10-15T12:25:04.171390Z",
     "iopub.status.busy": "2024-10-15T12:25:04.170082Z",
     "iopub.status.idle": "2024-10-15T12:25:04.193204Z",
     "shell.execute_reply": "2024-10-15T12:25:04.192015Z"
    },
    "papermill": {
     "duration": 0.049589,
     "end_time": "2024-10-15T12:25:04.195670",
     "exception": false,
     "start_time": "2024-10-15T12:25:04.146081",
     "status": "completed"
    },
    "tags": []
   },
   "outputs": [
    {
     "data": {
      "text/plain": [
       "max_power\n",
       "bhp    16131\n",
       "rpm      253\n",
       " PS       78\n",
       "102       31\n",
       "78        23\n",
       "       ...  \n",
       "6.7        1\n",
       "5.2        1\n",
       "47         1\n",
       "9PS        1\n",
       "4.9        1\n",
       "Name: count, Length: 73, dtype: int64"
      ]
     },
     "execution_count": 18,
     "metadata": {},
     "output_type": "execute_result"
    }
   ],
   "source": [
    "resale_data['max_power'].apply(lambda x: x[-3:]).value_counts()"
   ]
  },
  {
   "cell_type": "code",
   "execution_count": 19,
   "id": "4a9812ef",
   "metadata": {
    "execution": {
     "iopub.execute_input": "2024-10-15T12:25:04.242304Z",
     "iopub.status.busy": "2024-10-15T12:25:04.241853Z",
     "iopub.status.idle": "2024-10-15T12:25:04.273143Z",
     "shell.execute_reply": "2024-10-15T12:25:04.271815Z"
    },
    "papermill": {
     "duration": 0.058259,
     "end_time": "2024-10-15T12:25:04.276229",
     "exception": false,
     "start_time": "2024-10-15T12:25:04.217970",
     "status": "completed"
    },
    "tags": []
   },
   "outputs": [],
   "source": [
    "resale_data = resale_data.drop(resale_data[resale_data['max_power'].apply(lambda x: x[-3:]).str.lower() != 'bhp'].index)"
   ]
  },
  {
   "cell_type": "code",
   "execution_count": 20,
   "id": "7b60683e",
   "metadata": {
    "execution": {
     "iopub.execute_input": "2024-10-15T12:25:04.323322Z",
     "iopub.status.busy": "2024-10-15T12:25:04.322309Z",
     "iopub.status.idle": "2024-10-15T12:25:04.361851Z",
     "shell.execute_reply": "2024-10-15T12:25:04.360642Z"
    },
    "papermill": {
     "duration": 0.066277,
     "end_time": "2024-10-15T12:25:04.364781",
     "exception": false,
     "start_time": "2024-10-15T12:25:04.298504",
     "status": "completed"
    },
    "tags": []
   },
   "outputs": [
    {
     "data": {
      "text/html": [
       "<div>\n",
       "<style scoped>\n",
       "    .dataframe tbody tr th:only-of-type {\n",
       "        vertical-align: middle;\n",
       "    }\n",
       "\n",
       "    .dataframe tbody tr th {\n",
       "        vertical-align: top;\n",
       "    }\n",
       "\n",
       "    .dataframe thead th {\n",
       "        text-align: right;\n",
       "    }\n",
       "</style>\n",
       "<table border=\"1\" class=\"dataframe\">\n",
       "  <thead>\n",
       "    <tr style=\"text-align: right;\">\n",
       "      <th></th>\n",
       "      <th>Unnamed: 0</th>\n",
       "      <th>full_name</th>\n",
       "      <th>resale_price</th>\n",
       "      <th>registered_year</th>\n",
       "      <th>engine_capacity</th>\n",
       "      <th>insurance</th>\n",
       "      <th>transmission_type</th>\n",
       "      <th>kms_driven</th>\n",
       "      <th>owner_type</th>\n",
       "      <th>fuel_type</th>\n",
       "      <th>max_power</th>\n",
       "      <th>seats</th>\n",
       "      <th>mileage</th>\n",
       "      <th>body_type</th>\n",
       "      <th>city</th>\n",
       "      <th>num_price</th>\n",
       "      <th>num_kms</th>\n",
       "      <th>num_engine</th>\n",
       "    </tr>\n",
       "  </thead>\n",
       "  <tbody>\n",
       "    <tr>\n",
       "      <th>0</th>\n",
       "      <td>0</td>\n",
       "      <td>2017 Maruti Baleno 1.2 Alpha</td>\n",
       "      <td>₹ 5.45 Lakh</td>\n",
       "      <td>2017.0</td>\n",
       "      <td>1197 cc</td>\n",
       "      <td>Third Party insurance</td>\n",
       "      <td>Manual</td>\n",
       "      <td>40,000 Kms</td>\n",
       "      <td>First Owner</td>\n",
       "      <td>Petrol</td>\n",
       "      <td>83.10</td>\n",
       "      <td>5.0</td>\n",
       "      <td>21.4 kmpl</td>\n",
       "      <td>Hatchback</td>\n",
       "      <td>Agra</td>\n",
       "      <td>545000.0</td>\n",
       "      <td>40000.0</td>\n",
       "      <td>1197.0</td>\n",
       "    </tr>\n",
       "    <tr>\n",
       "      <th>1</th>\n",
       "      <td>1</td>\n",
       "      <td>2018 Tata Hexa XTA</td>\n",
       "      <td>₹ 10 Lakh</td>\n",
       "      <td>2018.0</td>\n",
       "      <td>2179 cc</td>\n",
       "      <td>Third Party insurance</td>\n",
       "      <td>Automatic</td>\n",
       "      <td>70,000 Kms</td>\n",
       "      <td>First Owner</td>\n",
       "      <td>Diesel</td>\n",
       "      <td>153.86</td>\n",
       "      <td>7.0</td>\n",
       "      <td>17.6 kmpl</td>\n",
       "      <td>MUV</td>\n",
       "      <td>Agra</td>\n",
       "      <td>1000000.0</td>\n",
       "      <td>70000.0</td>\n",
       "      <td>2179.0</td>\n",
       "    </tr>\n",
       "    <tr>\n",
       "      <th>2</th>\n",
       "      <td>2</td>\n",
       "      <td>2015 Maruti Swift Dzire VXI</td>\n",
       "      <td>₹ 4.50 Lakh</td>\n",
       "      <td>2015.0</td>\n",
       "      <td>1197 cc</td>\n",
       "      <td>Third Party insurance</td>\n",
       "      <td>Manual</td>\n",
       "      <td>70,000 Kms</td>\n",
       "      <td>Second Owner</td>\n",
       "      <td>Petrol</td>\n",
       "      <td>83.14</td>\n",
       "      <td>5.0</td>\n",
       "      <td>20.85 kmpl</td>\n",
       "      <td>Sedan</td>\n",
       "      <td>Agra</td>\n",
       "      <td>450000.0</td>\n",
       "      <td>70000.0</td>\n",
       "      <td>1197.0</td>\n",
       "    </tr>\n",
       "    <tr>\n",
       "      <th>3</th>\n",
       "      <td>3</td>\n",
       "      <td>2015 Maruti Swift Dzire VXI</td>\n",
       "      <td>₹ 4.50 Lakh</td>\n",
       "      <td>2015.0</td>\n",
       "      <td>1197 cc</td>\n",
       "      <td>Third Party insurance</td>\n",
       "      <td>Manual</td>\n",
       "      <td>70,000 Kms</td>\n",
       "      <td>Second Owner</td>\n",
       "      <td>Petrol</td>\n",
       "      <td>83.14</td>\n",
       "      <td>5.0</td>\n",
       "      <td>20.85 kmpl</td>\n",
       "      <td>Sedan</td>\n",
       "      <td>Agra</td>\n",
       "      <td>450000.0</td>\n",
       "      <td>70000.0</td>\n",
       "      <td>1197.0</td>\n",
       "    </tr>\n",
       "    <tr>\n",
       "      <th>4</th>\n",
       "      <td>4</td>\n",
       "      <td>2009 Hyundai i10 Magna 1.1</td>\n",
       "      <td>₹ 1.60 Lakh</td>\n",
       "      <td>2009.0</td>\n",
       "      <td>1086 cc</td>\n",
       "      <td>Third Party insurance</td>\n",
       "      <td>Manual</td>\n",
       "      <td>80,000 Kms</td>\n",
       "      <td>First Owner</td>\n",
       "      <td>Petrol</td>\n",
       "      <td>68.05</td>\n",
       "      <td>5.0</td>\n",
       "      <td>19.81 kmpl</td>\n",
       "      <td>Hatchback</td>\n",
       "      <td>Agra</td>\n",
       "      <td>160000.0</td>\n",
       "      <td>80000.0</td>\n",
       "      <td>1086.0</td>\n",
       "    </tr>\n",
       "  </tbody>\n",
       "</table>\n",
       "</div>"
      ],
      "text/plain": [
       "   Unnamed: 0                     full_name resale_price  registered_year  \\\n",
       "0           0  2017 Maruti Baleno 1.2 Alpha  ₹ 5.45 Lakh           2017.0   \n",
       "1           1            2018 Tata Hexa XTA    ₹ 10 Lakh           2018.0   \n",
       "2           2   2015 Maruti Swift Dzire VXI  ₹ 4.50 Lakh           2015.0   \n",
       "3           3   2015 Maruti Swift Dzire VXI  ₹ 4.50 Lakh           2015.0   \n",
       "4           4    2009 Hyundai i10 Magna 1.1  ₹ 1.60 Lakh           2009.0   \n",
       "\n",
       "  engine_capacity              insurance transmission_type  kms_driven  \\\n",
       "0         1197 cc  Third Party insurance            Manual  40,000 Kms   \n",
       "1         2179 cc  Third Party insurance         Automatic  70,000 Kms   \n",
       "2         1197 cc  Third Party insurance            Manual  70,000 Kms   \n",
       "3         1197 cc  Third Party insurance            Manual  70,000 Kms   \n",
       "4         1086 cc  Third Party insurance            Manual  80,000 Kms   \n",
       "\n",
       "     owner_type fuel_type  max_power  seats     mileage  body_type  city  \\\n",
       "0   First Owner    Petrol      83.10    5.0   21.4 kmpl  Hatchback  Agra   \n",
       "1   First Owner    Diesel     153.86    7.0   17.6 kmpl        MUV  Agra   \n",
       "2  Second Owner    Petrol      83.14    5.0  20.85 kmpl      Sedan  Agra   \n",
       "3  Second Owner    Petrol      83.14    5.0  20.85 kmpl      Sedan  Agra   \n",
       "4   First Owner    Petrol      68.05    5.0  19.81 kmpl  Hatchback  Agra   \n",
       "\n",
       "   num_price  num_kms  num_engine  \n",
       "0   545000.0  40000.0      1197.0  \n",
       "1  1000000.0  70000.0      2179.0  \n",
       "2   450000.0  70000.0      1197.0  \n",
       "3   450000.0  70000.0      1197.0  \n",
       "4   160000.0  80000.0      1086.0  "
      ]
     },
     "execution_count": 20,
     "metadata": {},
     "output_type": "execute_result"
    }
   ],
   "source": [
    "resale_data['max_power'] = resale_data['max_power'].apply(lambda x : x[:-3]).astype(float)\n",
    "\n",
    "num_cols.append('max_power')\n",
    "\n",
    "resale_data.head(5)"
   ]
  },
  {
   "cell_type": "code",
   "execution_count": 21,
   "id": "10b88af6",
   "metadata": {
    "execution": {
     "iopub.execute_input": "2024-10-15T12:25:04.412622Z",
     "iopub.status.busy": "2024-10-15T12:25:04.412171Z",
     "iopub.status.idle": "2024-10-15T12:25:04.435357Z",
     "shell.execute_reply": "2024-10-15T12:25:04.434088Z"
    },
    "papermill": {
     "duration": 0.050064,
     "end_time": "2024-10-15T12:25:04.438033",
     "exception": false,
     "start_time": "2024-10-15T12:25:04.387969",
     "status": "completed"
    },
    "tags": []
   },
   "outputs": [
    {
     "data": {
      "text/plain": [
       "mileage\n",
       "kmpl     15993\n",
       "km/kg      151\n",
       "Name: count, dtype: int64"
      ]
     },
     "execution_count": 21,
     "metadata": {},
     "output_type": "execute_result"
    }
   ],
   "source": [
    "resale_data['mileage'].apply(lambda x: x.split(' ')[-1]).value_counts()"
   ]
  },
  {
   "cell_type": "code",
   "execution_count": 22,
   "id": "418bc752",
   "metadata": {
    "execution": {
     "iopub.execute_input": "2024-10-15T12:25:04.485982Z",
     "iopub.status.busy": "2024-10-15T12:25:04.485538Z",
     "iopub.status.idle": "2024-10-15T12:25:04.518433Z",
     "shell.execute_reply": "2024-10-15T12:25:04.517172Z"
    },
    "papermill": {
     "duration": 0.060312,
     "end_time": "2024-10-15T12:25:04.521395",
     "exception": false,
     "start_time": "2024-10-15T12:25:04.461083",
     "status": "completed"
    },
    "tags": []
   },
   "outputs": [],
   "source": [
    "resale_data.drop(resale_data[resale_data['mileage'].apply(lambda x: x.split(' ')[-1]).str.lower() != 'kmpl'].index, inplace = True)"
   ]
  },
  {
   "cell_type": "code",
   "execution_count": 23,
   "id": "d9a170bb",
   "metadata": {
    "execution": {
     "iopub.execute_input": "2024-10-15T12:25:04.569482Z",
     "iopub.status.busy": "2024-10-15T12:25:04.569012Z",
     "iopub.status.idle": "2024-10-15T12:25:04.621591Z",
     "shell.execute_reply": "2024-10-15T12:25:04.620369Z"
    },
    "papermill": {
     "duration": 0.079739,
     "end_time": "2024-10-15T12:25:04.624357",
     "exception": false,
     "start_time": "2024-10-15T12:25:04.544618",
     "status": "completed"
    },
    "tags": []
   },
   "outputs": [
    {
     "data": {
      "text/html": [
       "<div>\n",
       "<style scoped>\n",
       "    .dataframe tbody tr th:only-of-type {\n",
       "        vertical-align: middle;\n",
       "    }\n",
       "\n",
       "    .dataframe tbody tr th {\n",
       "        vertical-align: top;\n",
       "    }\n",
       "\n",
       "    .dataframe thead th {\n",
       "        text-align: right;\n",
       "    }\n",
       "</style>\n",
       "<table border=\"1\" class=\"dataframe\">\n",
       "  <thead>\n",
       "    <tr style=\"text-align: right;\">\n",
       "      <th></th>\n",
       "      <th>Unnamed: 0</th>\n",
       "      <th>full_name</th>\n",
       "      <th>resale_price</th>\n",
       "      <th>registered_year</th>\n",
       "      <th>engine_capacity</th>\n",
       "      <th>insurance</th>\n",
       "      <th>transmission_type</th>\n",
       "      <th>kms_driven</th>\n",
       "      <th>owner_type</th>\n",
       "      <th>fuel_type</th>\n",
       "      <th>max_power</th>\n",
       "      <th>seats</th>\n",
       "      <th>mileage</th>\n",
       "      <th>body_type</th>\n",
       "      <th>city</th>\n",
       "      <th>num_price</th>\n",
       "      <th>num_kms</th>\n",
       "      <th>num_engine</th>\n",
       "    </tr>\n",
       "  </thead>\n",
       "  <tbody>\n",
       "    <tr>\n",
       "      <th>0</th>\n",
       "      <td>0</td>\n",
       "      <td>2017 Maruti Baleno 1.2 Alpha</td>\n",
       "      <td>₹ 5.45 Lakh</td>\n",
       "      <td>2017.0</td>\n",
       "      <td>1197 cc</td>\n",
       "      <td>Third Party insurance</td>\n",
       "      <td>Manual</td>\n",
       "      <td>40,000 Kms</td>\n",
       "      <td>First Owner</td>\n",
       "      <td>Petrol</td>\n",
       "      <td>83.10</td>\n",
       "      <td>5.0</td>\n",
       "      <td>21.4</td>\n",
       "      <td>Hatchback</td>\n",
       "      <td>Agra</td>\n",
       "      <td>545000.0</td>\n",
       "      <td>40000.0</td>\n",
       "      <td>1197.0</td>\n",
       "    </tr>\n",
       "    <tr>\n",
       "      <th>1</th>\n",
       "      <td>1</td>\n",
       "      <td>2018 Tata Hexa XTA</td>\n",
       "      <td>₹ 10 Lakh</td>\n",
       "      <td>2018.0</td>\n",
       "      <td>2179 cc</td>\n",
       "      <td>Third Party insurance</td>\n",
       "      <td>Automatic</td>\n",
       "      <td>70,000 Kms</td>\n",
       "      <td>First Owner</td>\n",
       "      <td>Diesel</td>\n",
       "      <td>153.86</td>\n",
       "      <td>7.0</td>\n",
       "      <td>17.6</td>\n",
       "      <td>MUV</td>\n",
       "      <td>Agra</td>\n",
       "      <td>1000000.0</td>\n",
       "      <td>70000.0</td>\n",
       "      <td>2179.0</td>\n",
       "    </tr>\n",
       "  </tbody>\n",
       "</table>\n",
       "</div>"
      ],
      "text/plain": [
       "   Unnamed: 0                     full_name resale_price  registered_year  \\\n",
       "0           0  2017 Maruti Baleno 1.2 Alpha  ₹ 5.45 Lakh           2017.0   \n",
       "1           1            2018 Tata Hexa XTA    ₹ 10 Lakh           2018.0   \n",
       "\n",
       "  engine_capacity              insurance transmission_type  kms_driven  \\\n",
       "0         1197 cc  Third Party insurance            Manual  40,000 Kms   \n",
       "1         2179 cc  Third Party insurance         Automatic  70,000 Kms   \n",
       "\n",
       "    owner_type fuel_type  max_power  seats  mileage  body_type  city  \\\n",
       "0  First Owner    Petrol      83.10    5.0     21.4  Hatchback  Agra   \n",
       "1  First Owner    Diesel     153.86    7.0     17.6        MUV  Agra   \n",
       "\n",
       "   num_price  num_kms  num_engine  \n",
       "0   545000.0  40000.0      1197.0  \n",
       "1  1000000.0  70000.0      2179.0  "
      ]
     },
     "execution_count": 23,
     "metadata": {},
     "output_type": "execute_result"
    }
   ],
   "source": [
    "resale_data['mileage'] = resale_data['mileage'].apply(lambda x: str(x).split(' ')[0] if isinstance(x, str) else x)\n",
    "\n",
    "# Convert the cleaned mileage to float, handling errors for any non-numeric values\n",
    "resale_data['mileage'] = pd.to_numeric(resale_data['mileage'], errors='coerce')\n",
    "\n",
    "num_cols.append('mileage')\n",
    "\n",
    "# Display the first two rows of the DataFrame\n",
    "resale_data.head(2)"
   ]
  },
  {
   "cell_type": "code",
   "execution_count": 24,
   "id": "9b183a59",
   "metadata": {
    "execution": {
     "iopub.execute_input": "2024-10-15T12:25:04.673511Z",
     "iopub.status.busy": "2024-10-15T12:25:04.672541Z",
     "iopub.status.idle": "2024-10-15T12:25:04.705536Z",
     "shell.execute_reply": "2024-10-15T12:25:04.704456Z"
    },
    "papermill": {
     "duration": 0.061208,
     "end_time": "2024-10-15T12:25:04.708867",
     "exception": false,
     "start_time": "2024-10-15T12:25:04.647659",
     "status": "completed"
    },
    "tags": []
   },
   "outputs": [
    {
     "name": "stdout",
     "output_type": "stream",
     "text": [
      "<class 'pandas.core.frame.DataFrame'>\n",
      "Index: 15993 entries, 0 to 17445\n",
      "Data columns (total 18 columns):\n",
      " #   Column             Non-Null Count  Dtype  \n",
      "---  ------             --------------  -----  \n",
      " 0   Unnamed: 0         15993 non-null  int64  \n",
      " 1   full_name          15993 non-null  object \n",
      " 2   resale_price       15993 non-null  object \n",
      " 3   registered_year    15993 non-null  float64\n",
      " 4   engine_capacity    15993 non-null  object \n",
      " 5   insurance          15993 non-null  object \n",
      " 6   transmission_type  15993 non-null  object \n",
      " 7   kms_driven         15993 non-null  object \n",
      " 8   owner_type         15993 non-null  object \n",
      " 9   fuel_type          15993 non-null  object \n",
      " 10  max_power          15993 non-null  float64\n",
      " 11  seats              15993 non-null  float64\n",
      " 12  mileage            15993 non-null  float64\n",
      " 13  body_type          15993 non-null  object \n",
      " 14  city               15993 non-null  object \n",
      " 15  num_price          15993 non-null  float64\n",
      " 16  num_kms            15993 non-null  float64\n",
      " 17  num_engine         15993 non-null  float64\n",
      "dtypes: float64(7), int64(1), object(10)\n",
      "memory usage: 2.3+ MB\n"
     ]
    }
   ],
   "source": [
    "resale_data.info()"
   ]
  },
  {
   "cell_type": "code",
   "execution_count": 25,
   "id": "8b5ce41c",
   "metadata": {
    "execution": {
     "iopub.execute_input": "2024-10-15T12:25:04.758032Z",
     "iopub.status.busy": "2024-10-15T12:25:04.757608Z",
     "iopub.status.idle": "2024-10-15T12:25:04.765511Z",
     "shell.execute_reply": "2024-10-15T12:25:04.764133Z"
    },
    "papermill": {
     "duration": 0.035775,
     "end_time": "2024-10-15T12:25:04.767945",
     "exception": false,
     "start_time": "2024-10-15T12:25:04.732170",
     "status": "completed"
    },
    "tags": []
   },
   "outputs": [
    {
     "data": {
      "text/plain": [
       "['seats',\n",
       " 'registered_year',\n",
       " 'num_price',\n",
       " 'num_kms',\n",
       " 'num_engine',\n",
       " 'max_power',\n",
       " 'mileage']"
      ]
     },
     "execution_count": 25,
     "metadata": {},
     "output_type": "execute_result"
    }
   ],
   "source": [
    "num_cols"
   ]
  },
  {
   "cell_type": "code",
   "execution_count": 26,
   "id": "2d6d9716",
   "metadata": {
    "execution": {
     "iopub.execute_input": "2024-10-15T12:25:04.818363Z",
     "iopub.status.busy": "2024-10-15T12:25:04.817881Z",
     "iopub.status.idle": "2024-10-15T12:25:04.842580Z",
     "shell.execute_reply": "2024-10-15T12:25:04.841284Z"
    },
    "papermill": {
     "duration": 0.052359,
     "end_time": "2024-10-15T12:25:04.845338",
     "exception": false,
     "start_time": "2024-10-15T12:25:04.792979",
     "status": "completed"
    },
    "tags": []
   },
   "outputs": [
    {
     "data": {
      "text/html": [
       "<div>\n",
       "<style scoped>\n",
       "    .dataframe tbody tr th:only-of-type {\n",
       "        vertical-align: middle;\n",
       "    }\n",
       "\n",
       "    .dataframe tbody tr th {\n",
       "        vertical-align: top;\n",
       "    }\n",
       "\n",
       "    .dataframe thead th {\n",
       "        text-align: right;\n",
       "    }\n",
       "</style>\n",
       "<table border=\"1\" class=\"dataframe\">\n",
       "  <thead>\n",
       "    <tr style=\"text-align: right;\">\n",
       "      <th></th>\n",
       "      <th>seats</th>\n",
       "      <th>registered_year</th>\n",
       "      <th>num_price</th>\n",
       "      <th>num_kms</th>\n",
       "      <th>num_engine</th>\n",
       "      <th>max_power</th>\n",
       "      <th>mileage</th>\n",
       "    </tr>\n",
       "  </thead>\n",
       "  <tbody>\n",
       "    <tr>\n",
       "      <th>0</th>\n",
       "      <td>5.0</td>\n",
       "      <td>2017.0</td>\n",
       "      <td>545000.0</td>\n",
       "      <td>40000.0</td>\n",
       "      <td>1197.0</td>\n",
       "      <td>83.10</td>\n",
       "      <td>21.40</td>\n",
       "    </tr>\n",
       "    <tr>\n",
       "      <th>1</th>\n",
       "      <td>7.0</td>\n",
       "      <td>2018.0</td>\n",
       "      <td>1000000.0</td>\n",
       "      <td>70000.0</td>\n",
       "      <td>2179.0</td>\n",
       "      <td>153.86</td>\n",
       "      <td>17.60</td>\n",
       "    </tr>\n",
       "    <tr>\n",
       "      <th>2</th>\n",
       "      <td>5.0</td>\n",
       "      <td>2015.0</td>\n",
       "      <td>450000.0</td>\n",
       "      <td>70000.0</td>\n",
       "      <td>1197.0</td>\n",
       "      <td>83.14</td>\n",
       "      <td>20.85</td>\n",
       "    </tr>\n",
       "    <tr>\n",
       "      <th>3</th>\n",
       "      <td>5.0</td>\n",
       "      <td>2015.0</td>\n",
       "      <td>450000.0</td>\n",
       "      <td>70000.0</td>\n",
       "      <td>1197.0</td>\n",
       "      <td>83.14</td>\n",
       "      <td>20.85</td>\n",
       "    </tr>\n",
       "    <tr>\n",
       "      <th>4</th>\n",
       "      <td>5.0</td>\n",
       "      <td>2009.0</td>\n",
       "      <td>160000.0</td>\n",
       "      <td>80000.0</td>\n",
       "      <td>1086.0</td>\n",
       "      <td>68.05</td>\n",
       "      <td>19.81</td>\n",
       "    </tr>\n",
       "  </tbody>\n",
       "</table>\n",
       "</div>"
      ],
      "text/plain": [
       "   seats  registered_year  num_price  num_kms  num_engine  max_power  mileage\n",
       "0    5.0           2017.0   545000.0  40000.0      1197.0      83.10    21.40\n",
       "1    7.0           2018.0  1000000.0  70000.0      2179.0     153.86    17.60\n",
       "2    5.0           2015.0   450000.0  70000.0      1197.0      83.14    20.85\n",
       "3    5.0           2015.0   450000.0  70000.0      1197.0      83.14    20.85\n",
       "4    5.0           2009.0   160000.0  80000.0      1086.0      68.05    19.81"
      ]
     },
     "execution_count": 26,
     "metadata": {},
     "output_type": "execute_result"
    }
   ],
   "source": [
    "num_encoded = resale_data[num_cols].copy()\n",
    "num_encoded.head()\n"
   ]
  },
  {
   "cell_type": "code",
   "execution_count": 27,
   "id": "1fe4bf41",
   "metadata": {
    "execution": {
     "iopub.execute_input": "2024-10-15T12:25:04.894568Z",
     "iopub.status.busy": "2024-10-15T12:25:04.894068Z",
     "iopub.status.idle": "2024-10-15T12:25:04.920663Z",
     "shell.execute_reply": "2024-10-15T12:25:04.919466Z"
    },
    "papermill": {
     "duration": 0.054081,
     "end_time": "2024-10-15T12:25:04.923078",
     "exception": false,
     "start_time": "2024-10-15T12:25:04.868997",
     "status": "completed"
    },
    "tags": []
   },
   "outputs": [
    {
     "data": {
      "text/html": [
       "<div>\n",
       "<style scoped>\n",
       "    .dataframe tbody tr th:only-of-type {\n",
       "        vertical-align: middle;\n",
       "    }\n",
       "\n",
       "    .dataframe tbody tr th {\n",
       "        vertical-align: top;\n",
       "    }\n",
       "\n",
       "    .dataframe thead th {\n",
       "        text-align: right;\n",
       "    }\n",
       "</style>\n",
       "<table border=\"1\" class=\"dataframe\">\n",
       "  <thead>\n",
       "    <tr style=\"text-align: right;\">\n",
       "      <th></th>\n",
       "      <th>Unnamed: 0</th>\n",
       "      <th>full_name</th>\n",
       "      <th>resale_price</th>\n",
       "      <th>registered_year</th>\n",
       "      <th>engine_capacity</th>\n",
       "      <th>insurance</th>\n",
       "      <th>transmission_type</th>\n",
       "      <th>kms_driven</th>\n",
       "      <th>owner_type</th>\n",
       "      <th>fuel_type</th>\n",
       "      <th>max_power</th>\n",
       "      <th>seats</th>\n",
       "      <th>mileage</th>\n",
       "      <th>body_type</th>\n",
       "      <th>city</th>\n",
       "      <th>num_price</th>\n",
       "      <th>num_kms</th>\n",
       "      <th>num_engine</th>\n",
       "    </tr>\n",
       "  </thead>\n",
       "  <tbody>\n",
       "    <tr>\n",
       "      <th>0</th>\n",
       "      <td>0</td>\n",
       "      <td>2017 Maruti Baleno 1.2 Alpha</td>\n",
       "      <td>₹ 5.45 Lakh</td>\n",
       "      <td>2017.0</td>\n",
       "      <td>1197 cc</td>\n",
       "      <td>Third Party insurance</td>\n",
       "      <td>Manual</td>\n",
       "      <td>40,000 Kms</td>\n",
       "      <td>First Owner</td>\n",
       "      <td>Petrol</td>\n",
       "      <td>83.10</td>\n",
       "      <td>5.0</td>\n",
       "      <td>21.40</td>\n",
       "      <td>Hatchback</td>\n",
       "      <td>Agra</td>\n",
       "      <td>545000.0</td>\n",
       "      <td>40000.0</td>\n",
       "      <td>1197.0</td>\n",
       "    </tr>\n",
       "    <tr>\n",
       "      <th>1</th>\n",
       "      <td>1</td>\n",
       "      <td>2018 Tata Hexa XTA</td>\n",
       "      <td>₹ 10 Lakh</td>\n",
       "      <td>2018.0</td>\n",
       "      <td>2179 cc</td>\n",
       "      <td>Third Party insurance</td>\n",
       "      <td>Automatic</td>\n",
       "      <td>70,000 Kms</td>\n",
       "      <td>First Owner</td>\n",
       "      <td>Diesel</td>\n",
       "      <td>153.86</td>\n",
       "      <td>7.0</td>\n",
       "      <td>17.60</td>\n",
       "      <td>MUV</td>\n",
       "      <td>Agra</td>\n",
       "      <td>1000000.0</td>\n",
       "      <td>70000.0</td>\n",
       "      <td>2179.0</td>\n",
       "    </tr>\n",
       "    <tr>\n",
       "      <th>2</th>\n",
       "      <td>2</td>\n",
       "      <td>2015 Maruti Swift Dzire VXI</td>\n",
       "      <td>₹ 4.50 Lakh</td>\n",
       "      <td>2015.0</td>\n",
       "      <td>1197 cc</td>\n",
       "      <td>Third Party insurance</td>\n",
       "      <td>Manual</td>\n",
       "      <td>70,000 Kms</td>\n",
       "      <td>Second Owner</td>\n",
       "      <td>Petrol</td>\n",
       "      <td>83.14</td>\n",
       "      <td>5.0</td>\n",
       "      <td>20.85</td>\n",
       "      <td>Sedan</td>\n",
       "      <td>Agra</td>\n",
       "      <td>450000.0</td>\n",
       "      <td>70000.0</td>\n",
       "      <td>1197.0</td>\n",
       "    </tr>\n",
       "    <tr>\n",
       "      <th>3</th>\n",
       "      <td>3</td>\n",
       "      <td>2015 Maruti Swift Dzire VXI</td>\n",
       "      <td>₹ 4.50 Lakh</td>\n",
       "      <td>2015.0</td>\n",
       "      <td>1197 cc</td>\n",
       "      <td>Third Party insurance</td>\n",
       "      <td>Manual</td>\n",
       "      <td>70,000 Kms</td>\n",
       "      <td>Second Owner</td>\n",
       "      <td>Petrol</td>\n",
       "      <td>83.14</td>\n",
       "      <td>5.0</td>\n",
       "      <td>20.85</td>\n",
       "      <td>Sedan</td>\n",
       "      <td>Agra</td>\n",
       "      <td>450000.0</td>\n",
       "      <td>70000.0</td>\n",
       "      <td>1197.0</td>\n",
       "    </tr>\n",
       "    <tr>\n",
       "      <th>4</th>\n",
       "      <td>4</td>\n",
       "      <td>2009 Hyundai i10 Magna 1.1</td>\n",
       "      <td>₹ 1.60 Lakh</td>\n",
       "      <td>2009.0</td>\n",
       "      <td>1086 cc</td>\n",
       "      <td>Third Party insurance</td>\n",
       "      <td>Manual</td>\n",
       "      <td>80,000 Kms</td>\n",
       "      <td>First Owner</td>\n",
       "      <td>Petrol</td>\n",
       "      <td>68.05</td>\n",
       "      <td>5.0</td>\n",
       "      <td>19.81</td>\n",
       "      <td>Hatchback</td>\n",
       "      <td>Agra</td>\n",
       "      <td>160000.0</td>\n",
       "      <td>80000.0</td>\n",
       "      <td>1086.0</td>\n",
       "    </tr>\n",
       "  </tbody>\n",
       "</table>\n",
       "</div>"
      ],
      "text/plain": [
       "   Unnamed: 0                     full_name resale_price  registered_year  \\\n",
       "0           0  2017 Maruti Baleno 1.2 Alpha  ₹ 5.45 Lakh           2017.0   \n",
       "1           1            2018 Tata Hexa XTA    ₹ 10 Lakh           2018.0   \n",
       "2           2   2015 Maruti Swift Dzire VXI  ₹ 4.50 Lakh           2015.0   \n",
       "3           3   2015 Maruti Swift Dzire VXI  ₹ 4.50 Lakh           2015.0   \n",
       "4           4    2009 Hyundai i10 Magna 1.1  ₹ 1.60 Lakh           2009.0   \n",
       "\n",
       "  engine_capacity              insurance transmission_type  kms_driven  \\\n",
       "0         1197 cc  Third Party insurance            Manual  40,000 Kms   \n",
       "1         2179 cc  Third Party insurance         Automatic  70,000 Kms   \n",
       "2         1197 cc  Third Party insurance            Manual  70,000 Kms   \n",
       "3         1197 cc  Third Party insurance            Manual  70,000 Kms   \n",
       "4         1086 cc  Third Party insurance            Manual  80,000 Kms   \n",
       "\n",
       "     owner_type fuel_type  max_power  seats  mileage  body_type  city  \\\n",
       "0   First Owner    Petrol      83.10    5.0    21.40  Hatchback  Agra   \n",
       "1   First Owner    Diesel     153.86    7.0    17.60        MUV  Agra   \n",
       "2  Second Owner    Petrol      83.14    5.0    20.85      Sedan  Agra   \n",
       "3  Second Owner    Petrol      83.14    5.0    20.85      Sedan  Agra   \n",
       "4   First Owner    Petrol      68.05    5.0    19.81  Hatchback  Agra   \n",
       "\n",
       "   num_price  num_kms  num_engine  \n",
       "0   545000.0  40000.0      1197.0  \n",
       "1  1000000.0  70000.0      2179.0  \n",
       "2   450000.0  70000.0      1197.0  \n",
       "3   450000.0  70000.0      1197.0  \n",
       "4   160000.0  80000.0      1086.0  "
      ]
     },
     "execution_count": 27,
     "metadata": {},
     "output_type": "execute_result"
    }
   ],
   "source": [
    "resale_data.head()"
   ]
  },
  {
   "cell_type": "code",
   "execution_count": 28,
   "id": "37684fab",
   "metadata": {
    "execution": {
     "iopub.execute_input": "2024-10-15T12:25:04.974629Z",
     "iopub.status.busy": "2024-10-15T12:25:04.974199Z",
     "iopub.status.idle": "2024-10-15T12:25:04.985853Z",
     "shell.execute_reply": "2024-10-15T12:25:04.984771Z"
    },
    "papermill": {
     "duration": 0.039975,
     "end_time": "2024-10-15T12:25:04.988541",
     "exception": false,
     "start_time": "2024-10-15T12:25:04.948566",
     "status": "completed"
    },
    "tags": []
   },
   "outputs": [
    {
     "data": {
      "text/plain": [
       "city\n",
       "Delhi         2783\n",
       "Bangalore     2166\n",
       "Mumbai        1893\n",
       "Hyderabad     1456\n",
       "Pune          1245\n",
       "Chennai       1244\n",
       "Ahmedabad     1229\n",
       "Kolkata       1089\n",
       "Gurgaon        978\n",
       "Jaipur         821\n",
       "Lucknow        512\n",
       "Chandigarh     401\n",
       "Agra           176\n",
       "Name: count, dtype: int64"
      ]
     },
     "execution_count": 28,
     "metadata": {},
     "output_type": "execute_result"
    }
   ],
   "source": [
    "resale_data['city'].value_counts()"
   ]
  },
  {
   "cell_type": "code",
   "execution_count": 29,
   "id": "eec92b24",
   "metadata": {
    "execution": {
     "iopub.execute_input": "2024-10-15T12:25:05.039386Z",
     "iopub.status.busy": "2024-10-15T12:25:05.038982Z",
     "iopub.status.idle": "2024-10-15T12:25:05.066555Z",
     "shell.execute_reply": "2024-10-15T12:25:05.065192Z"
    },
    "papermill": {
     "duration": 0.056298,
     "end_time": "2024-10-15T12:25:05.069368",
     "exception": false,
     "start_time": "2024-10-15T12:25:05.013070",
     "status": "completed"
    },
    "tags": []
   },
   "outputs": [
    {
     "data": {
      "text/plain": [
       "body_type\n",
       "Hatchback    6869\n",
       "Sedan        4380\n",
       "SUV          3968\n",
       "MUV           671\n",
       "Minivans       46\n",
       "Name: count, dtype: int64"
      ]
     },
     "execution_count": 29,
     "metadata": {},
     "output_type": "execute_result"
    }
   ],
   "source": [
    "resale_data = resale_data.groupby('body_type').filter(lambda x : len(x) > 45)\n",
    "resale_data['body_type'].value_counts()"
   ]
  },
  {
   "cell_type": "code",
   "execution_count": 30,
   "id": "19081552",
   "metadata": {
    "execution": {
     "iopub.execute_input": "2024-10-15T12:25:05.120439Z",
     "iopub.status.busy": "2024-10-15T12:25:05.119999Z",
     "iopub.status.idle": "2024-10-15T12:25:05.131670Z",
     "shell.execute_reply": "2024-10-15T12:25:05.130447Z"
    },
    "papermill": {
     "duration": 0.04032,
     "end_time": "2024-10-15T12:25:05.134420",
     "exception": false,
     "start_time": "2024-10-15T12:25:05.094100",
     "status": "completed"
    },
    "tags": []
   },
   "outputs": [
    {
     "data": {
      "text/plain": [
       "fuel_type\n",
       "Petrol      10544\n",
       "Diesel       5060\n",
       "CNG           307\n",
       "LPG            19\n",
       "Electric        4\n",
       "Name: count, dtype: int64"
      ]
     },
     "execution_count": 30,
     "metadata": {},
     "output_type": "execute_result"
    }
   ],
   "source": [
    "resale_data['fuel_type'].value_counts()"
   ]
  },
  {
   "cell_type": "markdown",
   "id": "3e33080a",
   "metadata": {
    "papermill": {
     "duration": 0.024549,
     "end_time": "2024-10-15T12:25:05.183657",
     "exception": false,
     "start_time": "2024-10-15T12:25:05.159108",
     "status": "completed"
    },
    "tags": []
   },
   "source": [
    "# Owner type"
   ]
  },
  {
   "cell_type": "code",
   "execution_count": 31,
   "id": "2d56f7cd",
   "metadata": {
    "execution": {
     "iopub.execute_input": "2024-10-15T12:25:05.238602Z",
     "iopub.status.busy": "2024-10-15T12:25:05.238162Z",
     "iopub.status.idle": "2024-10-15T12:25:05.250049Z",
     "shell.execute_reply": "2024-10-15T12:25:05.248829Z"
    },
    "papermill": {
     "duration": 0.044006,
     "end_time": "2024-10-15T12:25:05.252791",
     "exception": false,
     "start_time": "2024-10-15T12:25:05.208785",
     "status": "completed"
    },
    "tags": []
   },
   "outputs": [
    {
     "data": {
      "text/plain": [
       "owner_type\n",
       "First Owner     11384\n",
       "Second Owner     3758\n",
       "Third Owner       667\n",
       "Fourth Owner       95\n",
       "Fifth Owner        30\n",
       "Name: count, dtype: int64"
      ]
     },
     "execution_count": 31,
     "metadata": {},
     "output_type": "execute_result"
    }
   ],
   "source": [
    "resale_data['owner_type'].value_counts()"
   ]
  },
  {
   "cell_type": "code",
   "execution_count": 32,
   "id": "133713bf",
   "metadata": {
    "execution": {
     "iopub.execute_input": "2024-10-15T12:25:05.305575Z",
     "iopub.status.busy": "2024-10-15T12:25:05.305146Z",
     "iopub.status.idle": "2024-10-15T12:25:05.316903Z",
     "shell.execute_reply": "2024-10-15T12:25:05.315623Z"
    },
    "papermill": {
     "duration": 0.041131,
     "end_time": "2024-10-15T12:25:05.319572",
     "exception": false,
     "start_time": "2024-10-15T12:25:05.278441",
     "status": "completed"
    },
    "tags": []
   },
   "outputs": [
    {
     "data": {
      "text/plain": [
       "transmission_type\n",
       "Manual       11466\n",
       "Automatic     4468\n",
       "Name: count, dtype: int64"
      ]
     },
     "execution_count": 32,
     "metadata": {},
     "output_type": "execute_result"
    }
   ],
   "source": [
    "resale_data['transmission_type'].value_counts()"
   ]
  },
  {
   "cell_type": "markdown",
   "id": "c2100d27",
   "metadata": {
    "papermill": {
     "duration": 0.026248,
     "end_time": "2024-10-15T12:25:05.370778",
     "exception": false,
     "start_time": "2024-10-15T12:25:05.344530",
     "status": "completed"
    },
    "tags": []
   },
   "source": [
    "## Insurance"
   ]
  },
  {
   "cell_type": "code",
   "execution_count": 33,
   "id": "1e81125a",
   "metadata": {
    "execution": {
     "iopub.execute_input": "2024-10-15T12:25:05.424038Z",
     "iopub.status.busy": "2024-10-15T12:25:05.423605Z",
     "iopub.status.idle": "2024-10-15T12:25:05.435709Z",
     "shell.execute_reply": "2024-10-15T12:25:05.434451Z"
    },
    "papermill": {
     "duration": 0.041849,
     "end_time": "2024-10-15T12:25:05.438288",
     "exception": false,
     "start_time": "2024-10-15T12:25:05.396439",
     "status": "completed"
    },
    "tags": []
   },
   "outputs": [
    {
     "data": {
      "text/plain": [
       "insurance\n",
       "Third Party insurance    6722\n",
       "Comprehensive            5968\n",
       "Third Party              1870\n",
       "Zero Dep                  797\n",
       "Not Available             569\n",
       "1                           5\n",
       "2                           3\n",
       "Name: count, dtype: int64"
      ]
     },
     "execution_count": 33,
     "metadata": {},
     "output_type": "execute_result"
    }
   ],
   "source": [
    "resale_data['insurance'].value_counts()"
   ]
  },
  {
   "cell_type": "code",
   "execution_count": 34,
   "id": "7f69ca0d",
   "metadata": {
    "execution": {
     "iopub.execute_input": "2024-10-15T12:25:05.491368Z",
     "iopub.status.busy": "2024-10-15T12:25:05.490481Z",
     "iopub.status.idle": "2024-10-15T12:25:05.517737Z",
     "shell.execute_reply": "2024-10-15T12:25:05.516490Z"
    },
    "papermill": {
     "duration": 0.056913,
     "end_time": "2024-10-15T12:25:05.520576",
     "exception": false,
     "start_time": "2024-10-15T12:25:05.463663",
     "status": "completed"
    },
    "tags": []
   },
   "outputs": [
    {
     "data": {
      "text/plain": [
       "insurance\n",
       "Third Party insurance    6722\n",
       "Comprehensive            5968\n",
       "Third Party              1870\n",
       "Zero Dep                  797\n",
       "Not Available             569\n",
       "Name: count, dtype: int64"
      ]
     },
     "execution_count": 34,
     "metadata": {},
     "output_type": "execute_result"
    }
   ],
   "source": [
    "resale_data = resale_data.groupby('insurance').filter(lambda x: len(x) > 200)\n",
    "resale_data['insurance'].value_counts()"
   ]
  },
  {
   "cell_type": "markdown",
   "id": "9059266c",
   "metadata": {
    "papermill": {
     "duration": 0.025604,
     "end_time": "2024-10-15T12:25:05.572349",
     "exception": false,
     "start_time": "2024-10-15T12:25:05.546745",
     "status": "completed"
    },
    "tags": []
   },
   "source": [
    "## one hot encoding"
   ]
  },
  {
   "cell_type": "code",
   "execution_count": 35,
   "id": "0d0b321d",
   "metadata": {
    "execution": {
     "iopub.execute_input": "2024-10-15T12:25:05.625131Z",
     "iopub.status.busy": "2024-10-15T12:25:05.624704Z",
     "iopub.status.idle": "2024-10-15T12:25:05.630315Z",
     "shell.execute_reply": "2024-10-15T12:25:05.629156Z"
    },
    "papermill": {
     "duration": 0.035358,
     "end_time": "2024-10-15T12:25:05.633201",
     "exception": false,
     "start_time": "2024-10-15T12:25:05.597843",
     "status": "completed"
    },
    "tags": []
   },
   "outputs": [],
   "source": [
    "categorical_columns = ['city', 'body_type', 'fuel_type', 'owner_type', 'insurance', 'transmission_type']"
   ]
  },
  {
   "cell_type": "code",
   "execution_count": 36,
   "id": "f61e721b",
   "metadata": {
    "execution": {
     "iopub.execute_input": "2024-10-15T12:25:05.687433Z",
     "iopub.status.busy": "2024-10-15T12:25:05.686492Z",
     "iopub.status.idle": "2024-10-15T12:25:05.691856Z",
     "shell.execute_reply": "2024-10-15T12:25:05.690600Z"
    },
    "papermill": {
     "duration": 0.035279,
     "end_time": "2024-10-15T12:25:05.694579",
     "exception": false,
     "start_time": "2024-10-15T12:25:05.659300",
     "status": "completed"
    },
    "tags": []
   },
   "outputs": [],
   "source": [
    "#using machine learning \n"
   ]
  },
  {
   "cell_type": "code",
   "execution_count": 37,
   "id": "bab5567a",
   "metadata": {
    "execution": {
     "iopub.execute_input": "2024-10-15T12:25:05.747640Z",
     "iopub.status.busy": "2024-10-15T12:25:05.747167Z",
     "iopub.status.idle": "2024-10-15T12:25:05.972853Z",
     "shell.execute_reply": "2024-10-15T12:25:05.971708Z"
    },
    "papermill": {
     "duration": 0.255732,
     "end_time": "2024-10-15T12:25:05.975699",
     "exception": false,
     "start_time": "2024-10-15T12:25:05.719967",
     "status": "completed"
    },
    "tags": []
   },
   "outputs": [
    {
     "data": {
      "text/html": [
       "<div>\n",
       "<style scoped>\n",
       "    .dataframe tbody tr th:only-of-type {\n",
       "        vertical-align: middle;\n",
       "    }\n",
       "\n",
       "    .dataframe tbody tr th {\n",
       "        vertical-align: top;\n",
       "    }\n",
       "\n",
       "    .dataframe thead th {\n",
       "        text-align: right;\n",
       "    }\n",
       "</style>\n",
       "<table border=\"1\" class=\"dataframe\">\n",
       "  <thead>\n",
       "    <tr style=\"text-align: right;\">\n",
       "      <th></th>\n",
       "      <th>city_Agra</th>\n",
       "      <th>city_Ahmedabad</th>\n",
       "      <th>city_Bangalore</th>\n",
       "      <th>city_Chandigarh</th>\n",
       "      <th>city_Chennai</th>\n",
       "      <th>city_Delhi</th>\n",
       "      <th>city_Gurgaon</th>\n",
       "      <th>city_Hyderabad</th>\n",
       "      <th>city_Jaipur</th>\n",
       "      <th>city_Kolkata</th>\n",
       "      <th>...</th>\n",
       "      <th>owner_type_Fourth Owner</th>\n",
       "      <th>owner_type_Second Owner</th>\n",
       "      <th>owner_type_Third Owner</th>\n",
       "      <th>insurance_Comprehensive</th>\n",
       "      <th>insurance_Not Available</th>\n",
       "      <th>insurance_Third Party</th>\n",
       "      <th>insurance_Third Party insurance</th>\n",
       "      <th>insurance_Zero Dep</th>\n",
       "      <th>transmission_type_Automatic</th>\n",
       "      <th>transmission_type_Manual</th>\n",
       "    </tr>\n",
       "  </thead>\n",
       "  <tbody>\n",
       "    <tr>\n",
       "      <th>0</th>\n",
       "      <td>True</td>\n",
       "      <td>False</td>\n",
       "      <td>False</td>\n",
       "      <td>False</td>\n",
       "      <td>False</td>\n",
       "      <td>False</td>\n",
       "      <td>False</td>\n",
       "      <td>False</td>\n",
       "      <td>False</td>\n",
       "      <td>False</td>\n",
       "      <td>...</td>\n",
       "      <td>False</td>\n",
       "      <td>False</td>\n",
       "      <td>False</td>\n",
       "      <td>False</td>\n",
       "      <td>False</td>\n",
       "      <td>False</td>\n",
       "      <td>True</td>\n",
       "      <td>False</td>\n",
       "      <td>False</td>\n",
       "      <td>True</td>\n",
       "    </tr>\n",
       "    <tr>\n",
       "      <th>1</th>\n",
       "      <td>True</td>\n",
       "      <td>False</td>\n",
       "      <td>False</td>\n",
       "      <td>False</td>\n",
       "      <td>False</td>\n",
       "      <td>False</td>\n",
       "      <td>False</td>\n",
       "      <td>False</td>\n",
       "      <td>False</td>\n",
       "      <td>False</td>\n",
       "      <td>...</td>\n",
       "      <td>False</td>\n",
       "      <td>False</td>\n",
       "      <td>False</td>\n",
       "      <td>False</td>\n",
       "      <td>False</td>\n",
       "      <td>False</td>\n",
       "      <td>True</td>\n",
       "      <td>False</td>\n",
       "      <td>True</td>\n",
       "      <td>False</td>\n",
       "    </tr>\n",
       "    <tr>\n",
       "      <th>2</th>\n",
       "      <td>True</td>\n",
       "      <td>False</td>\n",
       "      <td>False</td>\n",
       "      <td>False</td>\n",
       "      <td>False</td>\n",
       "      <td>False</td>\n",
       "      <td>False</td>\n",
       "      <td>False</td>\n",
       "      <td>False</td>\n",
       "      <td>False</td>\n",
       "      <td>...</td>\n",
       "      <td>False</td>\n",
       "      <td>True</td>\n",
       "      <td>False</td>\n",
       "      <td>False</td>\n",
       "      <td>False</td>\n",
       "      <td>False</td>\n",
       "      <td>True</td>\n",
       "      <td>False</td>\n",
       "      <td>False</td>\n",
       "      <td>True</td>\n",
       "    </tr>\n",
       "    <tr>\n",
       "      <th>3</th>\n",
       "      <td>True</td>\n",
       "      <td>False</td>\n",
       "      <td>False</td>\n",
       "      <td>False</td>\n",
       "      <td>False</td>\n",
       "      <td>False</td>\n",
       "      <td>False</td>\n",
       "      <td>False</td>\n",
       "      <td>False</td>\n",
       "      <td>False</td>\n",
       "      <td>...</td>\n",
       "      <td>False</td>\n",
       "      <td>True</td>\n",
       "      <td>False</td>\n",
       "      <td>False</td>\n",
       "      <td>False</td>\n",
       "      <td>False</td>\n",
       "      <td>True</td>\n",
       "      <td>False</td>\n",
       "      <td>False</td>\n",
       "      <td>True</td>\n",
       "    </tr>\n",
       "    <tr>\n",
       "      <th>4</th>\n",
       "      <td>True</td>\n",
       "      <td>False</td>\n",
       "      <td>False</td>\n",
       "      <td>False</td>\n",
       "      <td>False</td>\n",
       "      <td>False</td>\n",
       "      <td>False</td>\n",
       "      <td>False</td>\n",
       "      <td>False</td>\n",
       "      <td>False</td>\n",
       "      <td>...</td>\n",
       "      <td>False</td>\n",
       "      <td>False</td>\n",
       "      <td>False</td>\n",
       "      <td>False</td>\n",
       "      <td>False</td>\n",
       "      <td>False</td>\n",
       "      <td>True</td>\n",
       "      <td>False</td>\n",
       "      <td>False</td>\n",
       "      <td>True</td>\n",
       "    </tr>\n",
       "  </tbody>\n",
       "</table>\n",
       "<p>5 rows × 35 columns</p>\n",
       "</div>"
      ],
      "text/plain": [
       "   city_Agra  city_Ahmedabad  city_Bangalore  city_Chandigarh  city_Chennai  \\\n",
       "0       True           False           False            False         False   \n",
       "1       True           False           False            False         False   \n",
       "2       True           False           False            False         False   \n",
       "3       True           False           False            False         False   \n",
       "4       True           False           False            False         False   \n",
       "\n",
       "   city_Delhi  city_Gurgaon  city_Hyderabad  city_Jaipur  city_Kolkata  ...  \\\n",
       "0       False         False           False        False         False  ...   \n",
       "1       False         False           False        False         False  ...   \n",
       "2       False         False           False        False         False  ...   \n",
       "3       False         False           False        False         False  ...   \n",
       "4       False         False           False        False         False  ...   \n",
       "\n",
       "   owner_type_Fourth Owner  owner_type_Second Owner  owner_type_Third Owner  \\\n",
       "0                    False                    False                   False   \n",
       "1                    False                    False                   False   \n",
       "2                    False                     True                   False   \n",
       "3                    False                     True                   False   \n",
       "4                    False                    False                   False   \n",
       "\n",
       "   insurance_Comprehensive  insurance_Not Available  insurance_Third Party  \\\n",
       "0                    False                    False                  False   \n",
       "1                    False                    False                  False   \n",
       "2                    False                    False                  False   \n",
       "3                    False                    False                  False   \n",
       "4                    False                    False                  False   \n",
       "\n",
       "   insurance_Third Party insurance  insurance_Zero Dep  \\\n",
       "0                             True               False   \n",
       "1                             True               False   \n",
       "2                             True               False   \n",
       "3                             True               False   \n",
       "4                             True               False   \n",
       "\n",
       "   transmission_type_Automatic  transmission_type_Manual  \n",
       "0                        False                      True  \n",
       "1                         True                     False  \n",
       "2                        False                      True  \n",
       "3                        False                      True  \n",
       "4                        False                      True  \n",
       "\n",
       "[5 rows x 35 columns]"
      ]
     },
     "execution_count": 37,
     "metadata": {},
     "output_type": "execute_result"
    }
   ],
   "source": [
    "from sklearn.preprocessing import OneHotEncoder\n",
    "\n",
    "cat_encoded = pd.get_dummies(resale_data[categorical_columns])\n",
    "cat_encoded.head()"
   ]
  },
  {
   "cell_type": "markdown",
   "id": "c98e7352",
   "metadata": {
    "papermill": {
     "duration": 0.026694,
     "end_time": "2024-10-15T12:25:06.028860",
     "exception": false,
     "start_time": "2024-10-15T12:25:06.002166",
     "status": "completed"
    },
    "tags": []
   },
   "source": [
    "# company name and model name"
   ]
  },
  {
   "cell_type": "code",
   "execution_count": 38,
   "id": "dbedffbd",
   "metadata": {
    "execution": {
     "iopub.execute_input": "2024-10-15T12:25:06.081961Z",
     "iopub.status.busy": "2024-10-15T12:25:06.081551Z",
     "iopub.status.idle": "2024-10-15T12:25:06.117119Z",
     "shell.execute_reply": "2024-10-15T12:25:06.115889Z"
    },
    "papermill": {
     "duration": 0.065203,
     "end_time": "2024-10-15T12:25:06.119797",
     "exception": false,
     "start_time": "2024-10-15T12:25:06.054594",
     "status": "completed"
    },
    "tags": []
   },
   "outputs": [
    {
     "data": {
      "text/plain": [
       "223"
      ]
     },
     "execution_count": 38,
     "metadata": {},
     "output_type": "execute_result"
    }
   ],
   "source": [
    "resale_data['model'] = resale_data['full_name'].apply(lambda x: x.split(' ')[1] + \" \" + x.split(' ')[2])\n",
    "resale_data['model'].nunique()"
   ]
  },
  {
   "cell_type": "code",
   "execution_count": 39,
   "id": "ca41f483",
   "metadata": {
    "execution": {
     "iopub.execute_input": "2024-10-15T12:25:06.173839Z",
     "iopub.status.busy": "2024-10-15T12:25:06.173394Z",
     "iopub.status.idle": "2024-10-15T12:25:06.210133Z",
     "shell.execute_reply": "2024-10-15T12:25:06.208981Z"
    },
    "papermill": {
     "duration": 0.06749,
     "end_time": "2024-10-15T12:25:06.213427",
     "exception": false,
     "start_time": "2024-10-15T12:25:06.145937",
     "status": "completed"
    },
    "tags": []
   },
   "outputs": [],
   "source": [
    "model_encoded = pd.get_dummies(resale_data['model'])"
   ]
  },
  {
   "cell_type": "code",
   "execution_count": 40,
   "id": "55dc2904",
   "metadata": {
    "execution": {
     "iopub.execute_input": "2024-10-15T12:25:06.267461Z",
     "iopub.status.busy": "2024-10-15T12:25:06.267027Z",
     "iopub.status.idle": "2024-10-15T12:25:06.293377Z",
     "shell.execute_reply": "2024-10-15T12:25:06.292199Z"
    },
    "papermill": {
     "duration": 0.056046,
     "end_time": "2024-10-15T12:25:06.295966",
     "exception": false,
     "start_time": "2024-10-15T12:25:06.239920",
     "status": "completed"
    },
    "tags": []
   },
   "outputs": [
    {
     "data": {
      "text/html": [
       "<div>\n",
       "<style scoped>\n",
       "    .dataframe tbody tr th:only-of-type {\n",
       "        vertical-align: middle;\n",
       "    }\n",
       "\n",
       "    .dataframe tbody tr th {\n",
       "        vertical-align: top;\n",
       "    }\n",
       "\n",
       "    .dataframe thead th {\n",
       "        text-align: right;\n",
       "    }\n",
       "</style>\n",
       "<table border=\"1\" class=\"dataframe\">\n",
       "  <thead>\n",
       "    <tr style=\"text-align: right;\">\n",
       "      <th></th>\n",
       "      <th>Audi A3</th>\n",
       "      <th>Audi A4</th>\n",
       "      <th>Audi A6</th>\n",
       "      <th>Audi A8</th>\n",
       "      <th>Audi Q3</th>\n",
       "      <th>Audi Q5</th>\n",
       "      <th>Audi Q7</th>\n",
       "      <th>Audi S5</th>\n",
       "      <th>BMW 1</th>\n",
       "      <th>BMW 2</th>\n",
       "      <th>...</th>\n",
       "      <th>Volkswagen Tiguan</th>\n",
       "      <th>Volkswagen Touareg</th>\n",
       "      <th>Volkswagen Vento</th>\n",
       "      <th>Volkswagen Virtus</th>\n",
       "      <th>Volvo S60</th>\n",
       "      <th>Volvo S90</th>\n",
       "      <th>Volvo V40</th>\n",
       "      <th>Volvo XC</th>\n",
       "      <th>Volvo XC40</th>\n",
       "      <th>Volvo XC60</th>\n",
       "    </tr>\n",
       "  </thead>\n",
       "  <tbody>\n",
       "    <tr>\n",
       "      <th>0</th>\n",
       "      <td>False</td>\n",
       "      <td>False</td>\n",
       "      <td>False</td>\n",
       "      <td>False</td>\n",
       "      <td>False</td>\n",
       "      <td>False</td>\n",
       "      <td>False</td>\n",
       "      <td>False</td>\n",
       "      <td>False</td>\n",
       "      <td>False</td>\n",
       "      <td>...</td>\n",
       "      <td>False</td>\n",
       "      <td>False</td>\n",
       "      <td>False</td>\n",
       "      <td>False</td>\n",
       "      <td>False</td>\n",
       "      <td>False</td>\n",
       "      <td>False</td>\n",
       "      <td>False</td>\n",
       "      <td>False</td>\n",
       "      <td>False</td>\n",
       "    </tr>\n",
       "    <tr>\n",
       "      <th>1</th>\n",
       "      <td>False</td>\n",
       "      <td>False</td>\n",
       "      <td>False</td>\n",
       "      <td>False</td>\n",
       "      <td>False</td>\n",
       "      <td>False</td>\n",
       "      <td>False</td>\n",
       "      <td>False</td>\n",
       "      <td>False</td>\n",
       "      <td>False</td>\n",
       "      <td>...</td>\n",
       "      <td>False</td>\n",
       "      <td>False</td>\n",
       "      <td>False</td>\n",
       "      <td>False</td>\n",
       "      <td>False</td>\n",
       "      <td>False</td>\n",
       "      <td>False</td>\n",
       "      <td>False</td>\n",
       "      <td>False</td>\n",
       "      <td>False</td>\n",
       "    </tr>\n",
       "    <tr>\n",
       "      <th>2</th>\n",
       "      <td>False</td>\n",
       "      <td>False</td>\n",
       "      <td>False</td>\n",
       "      <td>False</td>\n",
       "      <td>False</td>\n",
       "      <td>False</td>\n",
       "      <td>False</td>\n",
       "      <td>False</td>\n",
       "      <td>False</td>\n",
       "      <td>False</td>\n",
       "      <td>...</td>\n",
       "      <td>False</td>\n",
       "      <td>False</td>\n",
       "      <td>False</td>\n",
       "      <td>False</td>\n",
       "      <td>False</td>\n",
       "      <td>False</td>\n",
       "      <td>False</td>\n",
       "      <td>False</td>\n",
       "      <td>False</td>\n",
       "      <td>False</td>\n",
       "    </tr>\n",
       "    <tr>\n",
       "      <th>3</th>\n",
       "      <td>False</td>\n",
       "      <td>False</td>\n",
       "      <td>False</td>\n",
       "      <td>False</td>\n",
       "      <td>False</td>\n",
       "      <td>False</td>\n",
       "      <td>False</td>\n",
       "      <td>False</td>\n",
       "      <td>False</td>\n",
       "      <td>False</td>\n",
       "      <td>...</td>\n",
       "      <td>False</td>\n",
       "      <td>False</td>\n",
       "      <td>False</td>\n",
       "      <td>False</td>\n",
       "      <td>False</td>\n",
       "      <td>False</td>\n",
       "      <td>False</td>\n",
       "      <td>False</td>\n",
       "      <td>False</td>\n",
       "      <td>False</td>\n",
       "    </tr>\n",
       "    <tr>\n",
       "      <th>4</th>\n",
       "      <td>False</td>\n",
       "      <td>False</td>\n",
       "      <td>False</td>\n",
       "      <td>False</td>\n",
       "      <td>False</td>\n",
       "      <td>False</td>\n",
       "      <td>False</td>\n",
       "      <td>False</td>\n",
       "      <td>False</td>\n",
       "      <td>False</td>\n",
       "      <td>...</td>\n",
       "      <td>False</td>\n",
       "      <td>False</td>\n",
       "      <td>False</td>\n",
       "      <td>False</td>\n",
       "      <td>False</td>\n",
       "      <td>False</td>\n",
       "      <td>False</td>\n",
       "      <td>False</td>\n",
       "      <td>False</td>\n",
       "      <td>False</td>\n",
       "    </tr>\n",
       "  </tbody>\n",
       "</table>\n",
       "<p>5 rows × 223 columns</p>\n",
       "</div>"
      ],
      "text/plain": [
       "   Audi A3  Audi A4  Audi A6  Audi A8  Audi Q3  Audi Q5  Audi Q7  Audi S5  \\\n",
       "0    False    False    False    False    False    False    False    False   \n",
       "1    False    False    False    False    False    False    False    False   \n",
       "2    False    False    False    False    False    False    False    False   \n",
       "3    False    False    False    False    False    False    False    False   \n",
       "4    False    False    False    False    False    False    False    False   \n",
       "\n",
       "   BMW 1  BMW 2  ...  Volkswagen Tiguan  Volkswagen Touareg  Volkswagen Vento  \\\n",
       "0  False  False  ...              False               False             False   \n",
       "1  False  False  ...              False               False             False   \n",
       "2  False  False  ...              False               False             False   \n",
       "3  False  False  ...              False               False             False   \n",
       "4  False  False  ...              False               False             False   \n",
       "\n",
       "   Volkswagen Virtus  Volvo S60  Volvo S90  Volvo V40  Volvo XC  Volvo XC40  \\\n",
       "0              False      False      False      False     False       False   \n",
       "1              False      False      False      False     False       False   \n",
       "2              False      False      False      False     False       False   \n",
       "3              False      False      False      False     False       False   \n",
       "4              False      False      False      False     False       False   \n",
       "\n",
       "   Volvo XC60  \n",
       "0       False  \n",
       "1       False  \n",
       "2       False  \n",
       "3       False  \n",
       "4       False  \n",
       "\n",
       "[5 rows x 223 columns]"
      ]
     },
     "execution_count": 40,
     "metadata": {},
     "output_type": "execute_result"
    }
   ],
   "source": [
    "model_encoded.head()"
   ]
  },
  {
   "cell_type": "markdown",
   "id": "01cadb2f",
   "metadata": {
    "papermill": {
     "duration": 0.026414,
     "end_time": "2024-10-15T12:25:06.349569",
     "exception": false,
     "start_time": "2024-10-15T12:25:06.323155",
     "status": "completed"
    },
    "tags": []
   },
   "source": [
    "## Merging all data\n",
    "\n"
   ]
  },
  {
   "cell_type": "code",
   "execution_count": 41,
   "id": "70978788",
   "metadata": {
    "execution": {
     "iopub.execute_input": "2024-10-15T12:25:06.404616Z",
     "iopub.status.busy": "2024-10-15T12:25:06.404193Z",
     "iopub.status.idle": "2024-10-15T12:25:06.417344Z",
     "shell.execute_reply": "2024-10-15T12:25:06.416050Z"
    },
    "papermill": {
     "duration": 0.043515,
     "end_time": "2024-10-15T12:25:06.420116",
     "exception": false,
     "start_time": "2024-10-15T12:25:06.376601",
     "status": "completed"
    },
    "tags": []
   },
   "outputs": [],
   "source": [
    "resale_data = pd.concat([resale_data[num_encoded.columns], cat_encoded, model_encoded], axis=1)"
   ]
  },
  {
   "cell_type": "markdown",
   "id": "559beafa",
   "metadata": {
    "papermill": {
     "duration": 0.026077,
     "end_time": "2024-10-15T12:25:06.472573",
     "exception": false,
     "start_time": "2024-10-15T12:25:06.446496",
     "status": "completed"
    },
    "tags": []
   },
   "source": [
    "# Exploratory data analysis"
   ]
  },
  {
   "cell_type": "code",
   "execution_count": 42,
   "id": "3284fbe4",
   "metadata": {
    "execution": {
     "iopub.execute_input": "2024-10-15T12:25:06.526785Z",
     "iopub.status.busy": "2024-10-15T12:25:06.526339Z",
     "iopub.status.idle": "2024-10-15T12:25:06.532052Z",
     "shell.execute_reply": "2024-10-15T12:25:06.530814Z"
    },
    "papermill": {
     "duration": 0.035982,
     "end_time": "2024-10-15T12:25:06.534700",
     "exception": false,
     "start_time": "2024-10-15T12:25:06.498718",
     "status": "completed"
    },
    "tags": []
   },
   "outputs": [],
   "source": [
    "import seaborn as sns\n",
    "import matplotlib.pyplot as plt\n"
   ]
  },
  {
   "cell_type": "code",
   "execution_count": 43,
   "id": "0e012664",
   "metadata": {
    "execution": {
     "iopub.execute_input": "2024-10-15T12:25:06.591175Z",
     "iopub.status.busy": "2024-10-15T12:25:06.590732Z",
     "iopub.status.idle": "2024-10-15T12:25:15.966673Z",
     "shell.execute_reply": "2024-10-15T12:25:15.965225Z"
    },
    "papermill": {
     "duration": 9.410113,
     "end_time": "2024-10-15T12:25:15.972055",
     "exception": false,
     "start_time": "2024-10-15T12:25:06.561942",
     "status": "completed"
    },
    "tags": []
   },
   "outputs": [
    {
     "name": "stderr",
     "output_type": "stream",
     "text": [
      "<__array_function__ internals>:180: RuntimeWarning: Converting input from bool to <class 'numpy.uint8'> for compatibility.\n",
      "<__array_function__ internals>:180: RuntimeWarning: Converting input from bool to <class 'numpy.uint8'> for compatibility.\n"
     ]
    },
    {
     "data": {
      "image/png": "[encoded data removed]",
      "text/plain": [
       "<Figure size 1500x1000 with 9 Axes>"
      ]
     },
     "metadata": {},
     "output_type": "display_data"
    }
   ],
   "source": [
    "fig, ax1 = plt.subplots(3, 3, figsize=(15, 10))\n",
    "k = 0\n",
    "columns =resale_data.columns[:9]\n",
    "for i in range(3):\n",
    "    for j in range(3):\n",
    "        if k < len(columns):  # Check if k is within the bounds of columns\n",
    "            sns.histplot(resale_data[columns[k]], ax=ax1[i][j], color='purple', kde=True, stat=\"density\")\n",
    "            k += 1\n",
    "        else:\n",
    "            ax1[i][j].set_visible(False)  # Hide unused subplots if fewer than 9 columns\n",
    "\n",
    "plt.tight_layout()  # Adjust layout\n",
    "plt.show()   \n"
   ]
  },
  {
   "cell_type": "code",
   "execution_count": 44,
   "id": "4c0905ac",
   "metadata": {
    "execution": {
     "iopub.execute_input": "2024-10-15T12:25:16.034957Z",
     "iopub.status.busy": "2024-10-15T12:25:16.034421Z",
     "iopub.status.idle": "2024-10-15T12:25:24.984126Z",
     "shell.execute_reply": "2024-10-15T12:25:24.982668Z"
    },
    "papermill": {
     "duration": 8.983404,
     "end_time": "2024-10-15T12:25:24.987125",
     "exception": false,
     "start_time": "2024-10-15T12:25:16.003721",
     "status": "completed"
    },
    "tags": []
   },
   "outputs": [
    {
     "data": {
      "image/png": "[encoded data removed]",
      "text/plain": [
       "<Figure size 1500x1000 with 9 Axes>"
      ]
     },
     "metadata": {},
     "output_type": "display_data"
    }
   ],
   "source": [
    "melted_df = pd.melt(resale_data, var_name='variable', value_name='value')\n",
    "\n",
    "# Assuming 'columns' contains the column names you want to plot\n",
    "columns = melted_df['variable'].unique()  # Extract unique variable names from melted_df\n",
    "\n",
    "# Create subplots\n",
    "fig, ax1 = plt.subplots(3, 3, figsize=(15, 10))\n",
    "col = 0\n",
    "\n",
    "for i in range(3):\n",
    "    for j in range(3):\n",
    "        if col < len(columns):  # Check if col is within the bounds of columns\n",
    "            sns.boxplot(y='value', data=melted_df[melted_df['variable'] == columns[col]], ax=ax1[i][j], orient='v')\n",
    "            col += 1\n",
    "        else:\n",
    "            ax1[i][j].set_visible(False)  # Hide unused subplots if fewer than 9 columns\n",
    "\n",
    "plt.tight_layout()  # Adjust layout\n",
    "plt.show()  # Show the plot"
   ]
  },
  {
   "cell_type": "code",
   "execution_count": 45,
   "id": "75dcc927",
   "metadata": {
    "execution": {
     "iopub.execute_input": "2024-10-15T12:25:25.049217Z",
     "iopub.status.busy": "2024-10-15T12:25:25.048807Z",
     "iopub.status.idle": "2024-10-15T12:25:25.978264Z",
     "shell.execute_reply": "2024-10-15T12:25:25.976979Z"
    },
    "papermill": {
     "duration": 0.963833,
     "end_time": "2024-10-15T12:25:25.980902",
     "exception": false,
     "start_time": "2024-10-15T12:25:25.017069",
     "status": "completed"
    },
    "tags": []
   },
   "outputs": [
    {
     "data": {
      "image/png": "[encoded data removed]",
      "text/plain": [
       "<Figure size 1800x600 with 5 Axes>"
      ]
     },
     "metadata": {},
     "output_type": "display_data"
    }
   ],
   "source": [
    "\n",
    "# Define the columns you want to create box plots for\n",
    "skewed_cols = ['seats', 'num_kms', 'num_engine', 'max_power', 'mileage']\n",
    "\n",
    "# Filter the columns that exist in the DataFrame\n",
    "existing_cols = [col for col in skewed_cols if col in resale_data.columns]\n",
    "\n",
    "# Create a figure with subplots\n",
    "fig, axes = plt.subplots(1, len(existing_cols), figsize=(18, 6))\n",
    "\n",
    "# Loop through the existing columns and create box plots\n",
    "for i, col in enumerate(existing_cols):\n",
    "    sns.boxplot(x=resale_data[col], ax=axes[i])\n",
    "    axes[i].set_title(f'Box Plot for {col}')\n",
    "    axes[i].set_xlabel(col)\n",
    "\n",
    "# Adjust the layout\n",
    "plt.tight_layout()\n",
    "\n",
    "# Show the plots\n",
    "plt.show()\n"
   ]
  },
  {
   "cell_type": "code",
   "execution_count": 46,
   "id": "904388f7",
   "metadata": {
    "execution": {
     "iopub.execute_input": "2024-10-15T12:25:26.044794Z",
     "iopub.status.busy": "2024-10-15T12:25:26.044304Z",
     "iopub.status.idle": "2024-10-15T12:25:26.350634Z",
     "shell.execute_reply": "2024-10-15T12:25:26.349432Z"
    },
    "papermill": {
     "duration": 0.341652,
     "end_time": "2024-10-15T12:25:26.353273",
     "exception": false,
     "start_time": "2024-10-15T12:25:26.011621",
     "status": "completed"
    },
    "tags": []
   },
   "outputs": [
    {
     "data": {
      "image/png": "[encoded data removed]",
      "text/plain": [
       "<Figure size 1200x600 with 1 Axes>"
      ]
     },
     "metadata": {},
     "output_type": "display_data"
    }
   ],
   "source": [
    "# Assuming you have a DataFrame named df\n",
    "# Define the columns you want to create a box plot for\n",
    "columns_to_plot = ['num_engine', 'max_power']\n",
    "\n",
    "# Check if the columns exist in the DataFrame\n",
    "missing_columns = [col for col in columns_to_plot if col not in resale_data.columns]\n",
    "\n",
    "if missing_columns:\n",
    "    # Print a message indicating which columns are missing\n",
    "    print(f\"Missing columns: {missing_columns}\")\n",
    "else:\n",
    "    # Create a box plot for the selected columns\n",
    "    plt.figure(figsize=(12, 6))\n",
    "    sns.set(style=\"whitegrid\")\n",
    "    sns.boxplot(data=resale_data[columns_to_plot], orient=\"vertical\")\n",
    "    plt.xticks(rotation=45)\n",
    "    plt.show()\n"
   ]
  },
  {
   "cell_type": "code",
   "execution_count": 47,
   "id": "e7a5f65e",
   "metadata": {
    "execution": {
     "iopub.execute_input": "2024-10-15T12:25:26.418622Z",
     "iopub.status.busy": "2024-10-15T12:25:26.417691Z",
     "iopub.status.idle": "2024-10-15T12:25:26.705245Z",
     "shell.execute_reply": "2024-10-15T12:25:26.703855Z"
    },
    "papermill": {
     "duration": 0.322979,
     "end_time": "2024-10-15T12:25:26.708009",
     "exception": false,
     "start_time": "2024-10-15T12:25:26.385030",
     "status": "completed"
    },
    "tags": []
   },
   "outputs": [
    {
     "data": {
      "image/png": "[encoded data removed]",
      "text/plain": [
       "<Figure size 640x480 with 1 Axes>"
      ]
     },
     "metadata": {},
     "output_type": "display_data"
    }
   ],
   "source": [
    "required_columns = ['num_engine', 'max_power']\n",
    "missing_columns = [col for col in required_columns if col not in resale_data.columns]\n",
    "\n",
    "if missing_columns:\n",
    "    print(f\"Missing columns: {missing_columns}\")\n",
    "else:\n",
    "    # Create a box plot for the selected columns\n",
    "    sns.set(style=\"whitegrid\")\n",
    "    plt.xticks(rotation=45)\n",
    "    sns.boxplot(data=resale_data[required_columns])\n",
    "    plt.show()"
   ]
  },
  {
   "cell_type": "markdown",
   "id": "e123d560",
   "metadata": {
    "papermill": {
     "duration": 0.032696,
     "end_time": "2024-10-15T12:25:26.772932",
     "exception": false,
     "start_time": "2024-10-15T12:25:26.740236",
     "status": "completed"
    },
    "tags": []
   },
   "source": [
    "## ML Modelling"
   ]
  },
  {
   "cell_type": "code",
   "execution_count": 48,
   "id": "3c488b79",
   "metadata": {
    "execution": {
     "iopub.execute_input": "2024-10-15T12:25:26.839319Z",
     "iopub.status.busy": "2024-10-15T12:25:26.838838Z",
     "iopub.status.idle": "2024-10-15T12:25:26.845095Z",
     "shell.execute_reply": "2024-10-15T12:25:26.843634Z"
    },
    "papermill": {
     "duration": 0.042569,
     "end_time": "2024-10-15T12:25:26.847901",
     "exception": false,
     "start_time": "2024-10-15T12:25:26.805332",
     "status": "completed"
    },
    "tags": []
   },
   "outputs": [],
   "source": [
    "scalable_cols = num_cols.remove('num_price')"
   ]
  },
  {
   "cell_type": "code",
   "execution_count": 49,
   "id": "58caf130",
   "metadata": {
    "execution": {
     "iopub.execute_input": "2024-10-15T12:25:26.916163Z",
     "iopub.status.busy": "2024-10-15T12:25:26.915735Z",
     "iopub.status.idle": "2024-10-15T12:25:26.921640Z",
     "shell.execute_reply": "2024-10-15T12:25:26.920429Z"
    },
    "papermill": {
     "duration": 0.042718,
     "end_time": "2024-10-15T12:25:26.924186",
     "exception": false,
     "start_time": "2024-10-15T12:25:26.881468",
     "status": "completed"
    },
    "tags": []
   },
   "outputs": [],
   "source": [
    "from sklearn.preprocessing import MinMaxScaler"
   ]
  },
  {
   "cell_type": "code",
   "execution_count": 50,
   "id": "b7367fbb",
   "metadata": {
    "execution": {
     "iopub.execute_input": "2024-10-15T12:25:26.990546Z",
     "iopub.status.busy": "2024-10-15T12:25:26.990029Z",
     "iopub.status.idle": "2024-10-15T12:25:27.003620Z",
     "shell.execute_reply": "2024-10-15T12:25:27.002432Z"
    },
    "papermill": {
     "duration": 0.05048,
     "end_time": "2024-10-15T12:25:27.006445",
     "exception": false,
     "start_time": "2024-10-15T12:25:26.955965",
     "status": "completed"
    },
    "tags": []
   },
   "outputs": [
    {
     "data": {
      "text/plain": [
       "(15926, 264)"
      ]
     },
     "execution_count": 50,
     "metadata": {},
     "output_type": "execute_result"
    }
   ],
   "source": [
    "y = resale_data['num_price']\n",
    "X = resale_data.drop('num_price', axis = 1)\n",
    "\n",
    "X.shape"
   ]
  },
  {
   "cell_type": "code",
   "execution_count": 51,
   "id": "9fd170cc",
   "metadata": {
    "execution": {
     "iopub.execute_input": "2024-10-15T12:25:27.073828Z",
     "iopub.status.busy": "2024-10-15T12:25:27.072895Z",
     "iopub.status.idle": "2024-10-15T12:25:27.223300Z",
     "shell.execute_reply": "2024-10-15T12:25:27.221504Z"
    },
    "papermill": {
     "duration": 0.186885,
     "end_time": "2024-10-15T12:25:27.226124",
     "exception": false,
     "start_time": "2024-10-15T12:25:27.039239",
     "status": "completed"
    },
    "tags": []
   },
   "outputs": [
    {
     "name": "stdout",
     "output_type": "stream",
     "text": [
      "X_train : (12740, 264)\n",
      "X_test : (3186, 264)\n"
     ]
    }
   ],
   "source": [
    "from sklearn.model_selection import train_test_split\n",
    "X_train, X_test, y_train, y_test = train_test_split(X, y, test_size=0.2, random_state=42)\n",
    "print(\"X_train : \" + str(X_train.shape))\n",
    "print(\"X_test : \" + str(X_test.shape))\n"
   ]
  },
  {
   "cell_type": "code",
   "execution_count": 52,
   "id": "bad3c947",
   "metadata": {
    "execution": {
     "iopub.execute_input": "2024-10-15T12:25:27.293563Z",
     "iopub.status.busy": "2024-10-15T12:25:27.293054Z",
     "iopub.status.idle": "2024-10-15T12:25:27.735198Z",
     "shell.execute_reply": "2024-10-15T12:25:27.733944Z"
    },
    "papermill": {
     "duration": 0.481316,
     "end_time": "2024-10-15T12:25:27.739439",
     "exception": false,
     "start_time": "2024-10-15T12:25:27.258123",
     "status": "completed"
    },
    "tags": []
   },
   "outputs": [
    {
     "data": {
      "text/html": [
       "<style>#sk-container-id-1 {color: black;background-color: white;}#sk-container-id-1 pre{padding: 0;}#sk-container-id-1 div.sk-toggleable {background-color: white;}#sk-container-id-1 label.sk-toggleable__label {cursor: pointer;display: block;width: 100%;margin-bottom: 0;padding: 0.3em;box-sizing: border-box;text-align: center;}#sk-container-id-1 label.sk-toggleable__label-arrow:before {content: \"▸\";float: left;margin-right: 0.25em;color: #696969;}#sk-container-id-1 label.sk-toggleable__label-arrow:hover:before {color: black;}#sk-container-id-1 div.sk-estimator:hover label.sk-toggleable__label-arrow:before {color: black;}#sk-container-id-1 div.sk-toggleable__content {max-height: 0;max-width: 0;overflow: hidden;text-align: left;background-color: #f0f8ff;}#sk-container-id-1 div.sk-toggleable__content pre {margin: 0.2em;color: black;border-radius: 0.25em;background-color: #f0f8ff;}#sk-container-id-1 input.sk-toggleable__control:checked~div.sk-toggleable__content {max-height: 200px;max-width: 100%;overflow: auto;}#sk-container-id-1 input.sk-toggleable__control:checked~label.sk-toggleable__label-arrow:before {content: \"▾\";}#sk-container-id-1 div.sk-estimator input.sk-toggleable__control:checked~label.sk-toggleable__label {background-color: #d4ebff;}#sk-container-id-1 div.sk-label input.sk-toggleable__control:checked~label.sk-toggleable__label {background-color: #d4ebff;}#sk-container-id-1 input.sk-hidden--visually {border: 0;clip: rect(1px 1px 1px 1px);clip: rect(1px, 1px, 1px, 1px);height: 1px;margin: -1px;overflow: hidden;padding: 0;position: absolute;width: 1px;}#sk-container-id-1 div.sk-estimator {font-family: monospace;background-color: #f0f8ff;border: 1px dotted black;border-radius: 0.25em;box-sizing: border-box;margin-bottom: 0.5em;}#sk-container-id-1 div.sk-estimator:hover {background-color: #d4ebff;}#sk-container-id-1 div.sk-parallel-item::after {content: \"\";width: 100%;border-bottom: 1px solid gray;flex-grow: 1;}#sk-container-id-1 div.sk-label:hover label.sk-toggleable__label {background-color: #d4ebff;}#sk-container-id-1 div.sk-serial::before {content: \"\";position: absolute;border-left: 1px solid gray;box-sizing: border-box;top: 0;bottom: 0;left: 50%;z-index: 0;}#sk-container-id-1 div.sk-serial {display: flex;flex-direction: column;align-items: center;background-color: white;padding-right: 0.2em;padding-left: 0.2em;position: relative;}#sk-container-id-1 div.sk-item {position: relative;z-index: 1;}#sk-container-id-1 div.sk-parallel {display: flex;align-items: stretch;justify-content: center;background-color: white;position: relative;}#sk-container-id-1 div.sk-item::before, #sk-container-id-1 div.sk-parallel-item::before {content: \"\";position: absolute;border-left: 1px solid gray;box-sizing: border-box;top: 0;bottom: 0;left: 50%;z-index: -1;}#sk-container-id-1 div.sk-parallel-item {display: flex;flex-direction: column;z-index: 1;position: relative;background-color: white;}#sk-container-id-1 div.sk-parallel-item:first-child::after {align-self: flex-end;width: 50%;}#sk-container-id-1 div.sk-parallel-item:last-child::after {align-self: flex-start;width: 50%;}#sk-container-id-1 div.sk-parallel-item:only-child::after {width: 0;}#sk-container-id-1 div.sk-dashed-wrapped {border: 1px dashed gray;margin: 0 0.4em 0.5em 0.4em;box-sizing: border-box;padding-bottom: 0.4em;background-color: white;}#sk-container-id-1 div.sk-label label {font-family: monospace;font-weight: bold;display: inline-block;line-height: 1.2em;}#sk-container-id-1 div.sk-label-container {text-align: center;}#sk-container-id-1 div.sk-container {/* jupyter's `normalize.less` sets `[hidden] { display: none; }` but bootstrap.min.css set `[hidden] { display: none !important; }` so we also need the `!important` here to be able to override the default hidden behavior on the sphinx rendered scikit-learn.org. See: https://github.com/scikit-learn/scikit-learn/issues/21755 */display: inline-block !important;position: relative;}#sk-container-id-1 div.sk-text-repr-fallback {display: none;}</style><div id=\"sk-container-id-1\" class=\"sk-top-container\"><div class=\"sk-text-repr-fallback\"><pre>LinearRegression()</pre><b>In a Jupyter environment, please rerun this cell to show the HTML representation or trust the notebook. <br />On GitHub, the HTML representation is unable to render, please try loading this page with nbviewer.org.</b></div><div class=\"sk-container\" hidden><div class=\"sk-item\"><div class=\"sk-estimator sk-toggleable\"><input class=\"sk-toggleable__control sk-hidden--visually\" id=\"sk-estimator-id-1\" type=\"checkbox\" checked><label for=\"sk-estimator-id-1\" class=\"sk-toggleable__label sk-toggleable__label-arrow\">LinearRegression</label><div class=\"sk-toggleable__content\"><pre>LinearRegression()</pre></div></div></div></div></div>"
      ],
      "text/plain": [
       "LinearRegression()"
      ]
     },
     "execution_count": 52,
     "metadata": {},
     "output_type": "execute_result"
    }
   ],
   "source": [
    "from sklearn.linear_model import LinearRegression \n",
    "lin_reg = LinearRegression()\n",
    "lin_reg.fit(X_train, y_train)"
   ]
  },
  {
   "cell_type": "code",
   "execution_count": 53,
   "id": "42c888c5",
   "metadata": {
    "execution": {
     "iopub.execute_input": "2024-10-15T12:25:27.849771Z",
     "iopub.status.busy": "2024-10-15T12:25:27.848730Z",
     "iopub.status.idle": "2024-10-15T12:25:27.916710Z",
     "shell.execute_reply": "2024-10-15T12:25:27.915465Z"
    },
    "papermill": {
     "duration": 0.11448,
     "end_time": "2024-10-15T12:25:27.920995",
     "exception": false,
     "start_time": "2024-10-15T12:25:27.806515",
     "status": "completed"
    },
    "tags": []
   },
   "outputs": [
    {
     "name": "stdout",
     "output_type": "stream",
     "text": [
      "MSE:  125269895164.81548\n",
      "RMSE:  353934.87418565503\n",
      "The accuracy of our model is 84.0%\n",
      "The accuracy of our training data is 82.0%\n"
     ]
    }
   ],
   "source": [
    "from sklearn.metrics import mean_squared_error\n",
    "\n",
    "y_predict = lin_reg.predict(X_test)\n",
    "lin_mse = mean_squared_error(y_test, y_predict)\n",
    "lin_rmse = np.sqrt(lin_mse)\n",
    "print(\"MSE: \" , lin_mse)\n",
    "print(\"RMSE: \" , lin_rmse)\n",
    "\n",
    "from sklearn.metrics import r2_score\n",
    "score = r2_score(y_test, y_predict)\n",
    "print(\"The accuracy of our model is {}%\".format(round(score, 2) *100))\n",
    "\n",
    "score = r2_score(y_train, lin_reg.predict(X_train))\n",
    "print(\"The accuracy of our training data is {}%\".format(round(score, 2) *100))"
   ]
  },
  {
   "cell_type": "code",
   "execution_count": 54,
   "id": "8b68f2a6",
   "metadata": {
    "execution": {
     "iopub.execute_input": "2024-10-15T12:25:28.045979Z",
     "iopub.status.busy": "2024-10-15T12:25:28.045574Z",
     "iopub.status.idle": "2024-10-15T12:25:28.362963Z",
     "shell.execute_reply": "2024-10-15T12:25:28.361793Z"
    },
    "papermill": {
     "duration": 0.376916,
     "end_time": "2024-10-15T12:25:28.365645",
     "exception": false,
     "start_time": "2024-10-15T12:25:27.988729",
     "status": "completed"
    },
    "tags": []
   },
   "outputs": [
    {
     "data": {
      "text/html": [
       "<style>#sk-container-id-2 {color: black;background-color: white;}#sk-container-id-2 pre{padding: 0;}#sk-container-id-2 div.sk-toggleable {background-color: white;}#sk-container-id-2 label.sk-toggleable__label {cursor: pointer;display: block;width: 100%;margin-bottom: 0;padding: 0.3em;box-sizing: border-box;text-align: center;}#sk-container-id-2 label.sk-toggleable__label-arrow:before {content: \"▸\";float: left;margin-right: 0.25em;color: #696969;}#sk-container-id-2 label.sk-toggleable__label-arrow:hover:before {color: black;}#sk-container-id-2 div.sk-estimator:hover label.sk-toggleable__label-arrow:before {color: black;}#sk-container-id-2 div.sk-toggleable__content {max-height: 0;max-width: 0;overflow: hidden;text-align: left;background-color: #f0f8ff;}#sk-container-id-2 div.sk-toggleable__content pre {margin: 0.2em;color: black;border-radius: 0.25em;background-color: #f0f8ff;}#sk-container-id-2 input.sk-toggleable__control:checked~div.sk-toggleable__content {max-height: 200px;max-width: 100%;overflow: auto;}#sk-container-id-2 input.sk-toggleable__control:checked~label.sk-toggleable__label-arrow:before {content: \"▾\";}#sk-container-id-2 div.sk-estimator input.sk-toggleable__control:checked~label.sk-toggleable__label {background-color: #d4ebff;}#sk-container-id-2 div.sk-label input.sk-toggleable__control:checked~label.sk-toggleable__label {background-color: #d4ebff;}#sk-container-id-2 input.sk-hidden--visually {border: 0;clip: rect(1px 1px 1px 1px);clip: rect(1px, 1px, 1px, 1px);height: 1px;margin: -1px;overflow: hidden;padding: 0;position: absolute;width: 1px;}#sk-container-id-2 div.sk-estimator {font-family: monospace;background-color: #f0f8ff;border: 1px dotted black;border-radius: 0.25em;box-sizing: border-box;margin-bottom: 0.5em;}#sk-container-id-2 div.sk-estimator:hover {background-color: #d4ebff;}#sk-container-id-2 div.sk-parallel-item::after {content: \"\";width: 100%;border-bottom: 1px solid gray;flex-grow: 1;}#sk-container-id-2 div.sk-label:hover label.sk-toggleable__label {background-color: #d4ebff;}#sk-container-id-2 div.sk-serial::before {content: \"\";position: absolute;border-left: 1px solid gray;box-sizing: border-box;top: 0;bottom: 0;left: 50%;z-index: 0;}#sk-container-id-2 div.sk-serial {display: flex;flex-direction: column;align-items: center;background-color: white;padding-right: 0.2em;padding-left: 0.2em;position: relative;}#sk-container-id-2 div.sk-item {position: relative;z-index: 1;}#sk-container-id-2 div.sk-parallel {display: flex;align-items: stretch;justify-content: center;background-color: white;position: relative;}#sk-container-id-2 div.sk-item::before, #sk-container-id-2 div.sk-parallel-item::before {content: \"\";position: absolute;border-left: 1px solid gray;box-sizing: border-box;top: 0;bottom: 0;left: 50%;z-index: -1;}#sk-container-id-2 div.sk-parallel-item {display: flex;flex-direction: column;z-index: 1;position: relative;background-color: white;}#sk-container-id-2 div.sk-parallel-item:first-child::after {align-self: flex-end;width: 50%;}#sk-container-id-2 div.sk-parallel-item:last-child::after {align-self: flex-start;width: 50%;}#sk-container-id-2 div.sk-parallel-item:only-child::after {width: 0;}#sk-container-id-2 div.sk-dashed-wrapped {border: 1px dashed gray;margin: 0 0.4em 0.5em 0.4em;box-sizing: border-box;padding-bottom: 0.4em;background-color: white;}#sk-container-id-2 div.sk-label label {font-family: monospace;font-weight: bold;display: inline-block;line-height: 1.2em;}#sk-container-id-2 div.sk-label-container {text-align: center;}#sk-container-id-2 div.sk-container {/* jupyter's `normalize.less` sets `[hidden] { display: none; }` but bootstrap.min.css set `[hidden] { display: none !important; }` so we also need the `!important` here to be able to override the default hidden behavior on the sphinx rendered scikit-learn.org. See: https://github.com/scikit-learn/scikit-learn/issues/21755 */display: inline-block !important;position: relative;}#sk-container-id-2 div.sk-text-repr-fallback {display: none;}</style><div id=\"sk-container-id-2\" class=\"sk-top-container\"><div class=\"sk-text-repr-fallback\"><pre>DecisionTreeRegressor(max_depth=10, random_state=45)</pre><b>In a Jupyter environment, please rerun this cell to show the HTML representation or trust the notebook. <br />On GitHub, the HTML representation is unable to render, please try loading this page with nbviewer.org.</b></div><div class=\"sk-container\" hidden><div class=\"sk-item\"><div class=\"sk-estimator sk-toggleable\"><input class=\"sk-toggleable__control sk-hidden--visually\" id=\"sk-estimator-id-2\" type=\"checkbox\" checked><label for=\"sk-estimator-id-2\" class=\"sk-toggleable__label sk-toggleable__label-arrow\">DecisionTreeRegressor</label><div class=\"sk-toggleable__content\"><pre>DecisionTreeRegressor(max_depth=10, random_state=45)</pre></div></div></div></div></div>"
      ],
      "text/plain": [
       "DecisionTreeRegressor(max_depth=10, random_state=45)"
      ]
     },
     "execution_count": 54,
     "metadata": {},
     "output_type": "execute_result"
    }
   ],
   "source": [
    "from sklearn.tree import DecisionTreeRegressor \n",
    "\n",
    "tree_reg = DecisionTreeRegressor(max_depth = 10, random_state = 45)\n",
    "tree_reg.fit(X_train, y_train)"
   ]
  },
  {
   "cell_type": "code",
   "execution_count": 55,
   "id": "58fcf62f",
   "metadata": {
    "execution": {
     "iopub.execute_input": "2024-10-15T12:25:28.433141Z",
     "iopub.status.busy": "2024-10-15T12:25:28.432112Z",
     "iopub.status.idle": "2024-10-15T12:25:28.462051Z",
     "shell.execute_reply": "2024-10-15T12:25:28.460614Z"
    },
    "papermill": {
     "duration": 0.066461,
     "end_time": "2024-10-15T12:25:28.464743",
     "exception": false,
     "start_time": "2024-10-15T12:25:28.398282",
     "status": "completed"
    },
    "tags": []
   },
   "outputs": [
    {
     "name": "stdout",
     "output_type": "stream",
     "text": [
      "MSE:  94718683164.43837\n",
      "RMSE:  307764.00563489937\n",
      "The accuracy of our model is 88.0%\n",
      "The accuracy of our training data is 97.0%\n"
     ]
    }
   ],
   "source": [
    "y_predict = tree_reg.predict(X_test)\n",
    "tree_mse = mean_squared_error(y_test, y_predict)\n",
    "tree_rmse = np.sqrt(tree_mse)\n",
    "print(\"MSE: \" , tree_mse)\n",
    "print(\"RMSE: \" , tree_rmse)\n",
    "score2 = r2_score(y_test, y_predict)\n",
    "print(\"The accuracy of our model is {}%\".format(round(score2, 2) *100))\n",
    "\n",
    "score2 = r2_score(y_train, tree_reg.predict(X_train))\n",
    "print(\"The accuracy of our training data is {}%\".format(round(score2, 2) *100))"
   ]
  }
 ],
 "metadata": {
  "kaggle": {
   "accelerator": "none",
   "dataSources": [
    {
     "datasetId": 3728710,
     "sourceId": 6457404,
     "sourceType": "datasetVersion"
    }
   ],
   "dockerImageVersionId": 30558,
   "isGpuEnabled": false,
   "isInternetEnabled": true,
   "language": "python",
   "sourceType": "notebook"
  },
  "kernelspec": {
   "display_name": "Python 3",
   "language": "python",
   "name": "python3"
  },
  "language_info": {
   "codemirror_mode": {
    "name": "ipython",
    "version": 3
   },
   "file_extension": ".py",
   "mimetype": "text/x-python",
   "name": "python",
   "nbconvert_exporter": "python",
   "pygments_lexer": "ipython3",
   "version": "3.10.12"
  },
  "papermill": {
   "default_parameters": {},
   "duration": 34.750917,
   "end_time": "2024-10-15T12:25:29.821546",
   "environment_variables": {},
   "exception": null,
   "input_path": "__notebook__.ipynb",
   "output_path": "__notebook__.ipynb",
   "parameters": {},
   "start_time": "2024-10-15T12:24:55.070629",
   "version": "2.4.0"
  }
 },
 "nbformat": 4,
 "nbformat_minor": 5
}
